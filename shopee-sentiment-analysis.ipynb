{
 "cells": [
  {
   "cell_type": "markdown",
   "metadata": {
    "papermill": {
     "duration": 0.016885,
     "end_time": "2020-08-17T01:46:44.628725",
     "exception": false,
     "start_time": "2020-08-17T01:46:44.611840",
     "status": "completed"
    },
    "tags": []
   },
   "source": [
    "# Introduction\n",
    "\n",
    "<br>\n",
    "\n",
    "## Shopee Code League - Sentiment Analysis\n",
    "\n",
    "<br>\n",
    "\n",
    "### Background\n",
    "At Shopee, we always strive to ensure the customer’s highest satisfaction. Whatever product is sold on Shopee, we ensure the best user experience starting from product searching to product delivery, including product packaging, and product quality. Once a product is delivered, we always encourage our customer to rate the product and write their overall experience on the product landing page.\n",
    "The rating and comments provided for a product by our buyers are most important to us. These product reviews help us to understand our customers needs and quickly adapt our services to provide a much better experience for our customers for the next order. The user's comments for a product ranges from aspects including delivery services, product packaging, product quality, product specifications, payment method, etc. Therefore it is important for us to build an accurate system to understand these reviews which has a great impact on overall Shopee’s user experience. This system is termed: \"Shopee Product Review Sentiment Analyser\".\n",
    "\n",
    "<br>\n",
    "\n",
    "### Task\n",
    "In this competition, a multiple product review sentiment classification model needs to be built. There are ~150k product reviews from different categories, including electronics, furniture, home & living products like air-conditioner and fashion products like T-shirts, rings, etc. For data security purposes, the review ids will be desensitized. The evaluation metrics is top-1 accuracy.\n",
    "\n",
    "<br>\n",
    "\n",
    "### Evaluation metric\n",
    "\\begin{equation}\n",
    "{score = \\frac{1}{N}\\sum_{i=0}^{N}p(x_{i}, y_{i})}\n",
    "\\end{equation}\n",
    "\n",
    "Where\n",
    "\n",
    "- $N$ is number of test samples.\n",
    "\n",
    "- $x_{i}$ is the predicted category for $i$ th test sample.\n",
    "\n",
    "- $y_{i}$ is the ground truth for $i$ th test sample.\n",
    "\n",
    "- $p(x_{i}, y_{i})$ is calculated as 1 if $x_{i}$=$y_{i}$ and 0 otherwise."
   ]
  },
  {
   "cell_type": "markdown",
   "metadata": {
    "papermill": {
     "duration": 0.013361,
     "end_time": "2020-08-17T01:46:44.655998",
     "exception": false,
     "start_time": "2020-08-17T01:46:44.642637",
     "status": "completed"
    },
    "tags": []
   },
   "source": [
    "# Import libraries"
   ]
  },
  {
   "cell_type": "code",
   "execution_count": 1,
   "metadata": {
    "ExecuteTime": {
     "end_time": "2020-08-14T09:00:38.789213Z",
     "start_time": "2020-08-14T09:00:35.716871Z"
    },
    "execution": {
     "iopub.execute_input": "2020-08-17T01:46:44.693244Z",
     "iopub.status.busy": "2020-08-17T01:46:44.692500Z",
     "iopub.status.idle": "2020-08-17T01:46:45.650032Z",
     "shell.execute_reply": "2020-08-17T01:46:45.649196Z"
    },
    "papermill": {
     "duration": 0.980536,
     "end_time": "2020-08-17T01:46:45.650182",
     "exception": false,
     "start_time": "2020-08-17T01:46:44.669646",
     "status": "completed"
    },
    "tags": []
   },
   "outputs": [],
   "source": [
    "import pandas as pd\n",
    "pd.options.display.max_columns = None\n",
    "pd.options.mode.chained_assignment = None\n",
    "import numpy as np\n",
    "\n",
    "import warnings\n",
    "warnings.filterwarnings('ignore')\n",
    "\n",
    "from tqdm import tqdm\n",
    "tqdm.pandas()\n",
    "\n",
    "import matplotlib.pyplot as plt\n",
    "import seaborn as sns\n",
    "sns.set('talk')\n",
    "sns.set_style('white')\n",
    "\n",
    "import re\n",
    "import emoji"
   ]
  },
  {
   "cell_type": "markdown",
   "metadata": {
    "papermill": {
     "duration": 0.013566,
     "end_time": "2020-08-17T01:46:45.677853",
     "exception": false,
     "start_time": "2020-08-17T01:46:45.664287",
     "status": "completed"
    },
    "tags": []
   },
   "source": [
    "# Load data"
   ]
  },
  {
   "cell_type": "code",
   "execution_count": 2,
   "metadata": {
    "ExecuteTime": {
     "end_time": "2020-08-14T07:15:29.026148Z",
     "start_time": "2020-08-14T07:15:28.647623Z"
    },
    "execution": {
     "iopub.execute_input": "2020-08-17T01:46:45.717916Z",
     "iopub.status.busy": "2020-08-17T01:46:45.717148Z",
     "iopub.status.idle": "2020-08-17T01:46:49.741771Z",
     "shell.execute_reply": "2020-08-17T01:46:49.740964Z"
    },
    "papermill": {
     "duration": 4.050164,
     "end_time": "2020-08-17T01:46:49.741900",
     "exception": false,
     "start_time": "2020-08-17T01:46:45.691736",
     "status": "completed"
    },
    "tags": []
   },
   "outputs": [
    {
     "name": "stdout",
     "output_type": "stream",
     "text": [
      "Shape of train: (1712303, 3)\n",
      "Shape of test: (60427, 2)\n",
      "\n",
      "Train info:\n",
      "<class 'pandas.core.frame.DataFrame'>\n",
      "RangeIndex: 1712303 entries, 0 to 1712302\n",
      "Data columns (total 3 columns):\n",
      " #   Column     Dtype \n",
      "---  ------     ----- \n",
      " 0   review_id  int64 \n",
      " 1   review     object\n",
      " 2   rating     int64 \n",
      "dtypes: int64(2), object(1)\n",
      "memory usage: 39.2+ MB\n",
      "\n",
      "Test info:\n",
      "<class 'pandas.core.frame.DataFrame'>\n",
      "RangeIndex: 60427 entries, 0 to 60426\n",
      "Data columns (total 2 columns):\n",
      " #   Column     Non-Null Count  Dtype \n",
      "---  ------     --------------  ----- \n",
      " 0   review_id  60427 non-null  int64 \n",
      " 1   review     60427 non-null  object\n",
      "dtypes: int64(1), object(1)\n",
      "memory usage: 944.3+ KB\n"
     ]
    }
   ],
   "source": [
    "# Original train data\n",
    "original_train_df = pd.read_csv('../input/shopee-sentiment-analysis/train.csv')\n",
    "\n",
    "# Additional scrapped data from shopee website\n",
    "scrapped_train_df = pd.read_csv('../input/shopee-reviews/shopee_reviews.csv').rename(columns={'label': 'rating', 'text': 'review'})\n",
    "scrapped_train_df = scrapped_train_df[scrapped_train_df['rating'] != 'label']\n",
    "scrapped_train_df['rating'] = scrapped_train_df['rating'].astype(int)\n",
    "\n",
    "# Extended old train data\n",
    "extended_train_df = pd.read_csv('../input/test-labelled/test_labelled.csv')\n",
    "\n",
    "# Combine into train\n",
    "train_df = pd.concat([original_train_df, scrapped_train_df, extended_train_df], axis=0).reset_index(drop=True)\n",
    "train_df['review_id'] = train_df.index\n",
    "\n",
    "# Test data\n",
    "test_df = pd.read_csv('../input/shopee-sentiment-analysis/test.csv')\n",
    "\n",
    "print('Shape of train: {}'.format(train_df.shape))\n",
    "print('Shape of test: {}'.format(test_df.shape))\n",
    "print('\\nTrain info:')\n",
    "train_df.info()\n",
    "print('\\nTest info:')\n",
    "test_df.info()"
   ]
  },
  {
   "cell_type": "markdown",
   "metadata": {
    "papermill": {
     "duration": 0.013681,
     "end_time": "2020-08-17T01:46:49.769685",
     "exception": false,
     "start_time": "2020-08-17T01:46:49.756004",
     "status": "completed"
    },
    "tags": []
   },
   "source": [
    "# Exploratory Data Analysis"
   ]
  },
  {
   "cell_type": "code",
   "execution_count": 3,
   "metadata": {
    "ExecuteTime": {
     "end_time": "2020-08-14T07:15:29.04197Z",
     "start_time": "2020-08-14T07:15:29.027974Z"
    },
    "execution": {
     "iopub.execute_input": "2020-08-17T01:46:49.808495Z",
     "iopub.status.busy": "2020-08-17T01:46:49.807446Z",
     "iopub.status.idle": "2020-08-17T01:46:49.816501Z",
     "shell.execute_reply": "2020-08-17T01:46:49.815770Z"
    },
    "papermill": {
     "duration": 0.032778,
     "end_time": "2020-08-17T01:46:49.816635",
     "exception": false,
     "start_time": "2020-08-17T01:46:49.783857",
     "status": "completed"
    },
    "tags": []
   },
   "outputs": [
    {
     "data": {
      "text/html": [
       "<div>\n",
       "<style scoped>\n",
       "    .dataframe tbody tr th:only-of-type {\n",
       "        vertical-align: middle;\n",
       "    }\n",
       "\n",
       "    .dataframe tbody tr th {\n",
       "        vertical-align: top;\n",
       "    }\n",
       "\n",
       "    .dataframe thead th {\n",
       "        text-align: right;\n",
       "    }\n",
       "</style>\n",
       "<table border=\"1\" class=\"dataframe\">\n",
       "  <thead>\n",
       "    <tr style=\"text-align: right;\">\n",
       "      <th></th>\n",
       "      <th>review_id</th>\n",
       "      <th>review</th>\n",
       "      <th>rating</th>\n",
       "    </tr>\n",
       "  </thead>\n",
       "  <tbody>\n",
       "    <tr>\n",
       "      <th>0</th>\n",
       "      <td>0</td>\n",
       "      <td>Ga disappointed neat products .. Meletot Hilsn...</td>\n",
       "      <td>1</td>\n",
       "    </tr>\n",
       "    <tr>\n",
       "      <th>1</th>\n",
       "      <td>1</td>\n",
       "      <td>Rdtanya replace broken glass, broken chargernya</td>\n",
       "      <td>1</td>\n",
       "    </tr>\n",
       "    <tr>\n",
       "      <th>2</th>\n",
       "      <td>2</td>\n",
       "      <td>Nyesel bngt dsni shopping antecedent photo mes...</td>\n",
       "      <td>1</td>\n",
       "    </tr>\n",
       "    <tr>\n",
       "      <th>3</th>\n",
       "      <td>3</td>\n",
       "      <td>Sent a light blue suit goods ga want a refund</td>\n",
       "      <td>1</td>\n",
       "    </tr>\n",
       "    <tr>\n",
       "      <th>4</th>\n",
       "      <td>4</td>\n",
       "      <td>Pendants came with dents and scratches on its ...</td>\n",
       "      <td>1</td>\n",
       "    </tr>\n",
       "  </tbody>\n",
       "</table>\n",
       "</div>"
      ],
      "text/plain": [
       "   review_id                                             review  rating\n",
       "0          0  Ga disappointed neat products .. Meletot Hilsn...       1\n",
       "1          1    Rdtanya replace broken glass, broken chargernya       1\n",
       "2          2  Nyesel bngt dsni shopping antecedent photo mes...       1\n",
       "3          3      Sent a light blue suit goods ga want a refund       1\n",
       "4          4  Pendants came with dents and scratches on its ...       1"
      ]
     },
     "execution_count": 3,
     "metadata": {},
     "output_type": "execute_result"
    }
   ],
   "source": [
    "train_df.head()"
   ]
  },
  {
   "cell_type": "code",
   "execution_count": 4,
   "metadata": {
    "ExecuteTime": {
     "end_time": "2020-08-14T07:15:29.057971Z",
     "start_time": "2020-08-14T07:15:29.043971Z"
    },
    "execution": {
     "iopub.execute_input": "2020-08-17T01:46:49.855535Z",
     "iopub.status.busy": "2020-08-17T01:46:49.854687Z",
     "iopub.status.idle": "2020-08-17T01:46:49.859394Z",
     "shell.execute_reply": "2020-08-17T01:46:49.858771Z"
    },
    "papermill": {
     "duration": 0.028559,
     "end_time": "2020-08-17T01:46:49.859520",
     "exception": false,
     "start_time": "2020-08-17T01:46:49.830961",
     "status": "completed"
    },
    "tags": []
   },
   "outputs": [
    {
     "data": {
      "text/html": [
       "<div>\n",
       "<style scoped>\n",
       "    .dataframe tbody tr th:only-of-type {\n",
       "        vertical-align: middle;\n",
       "    }\n",
       "\n",
       "    .dataframe tbody tr th {\n",
       "        vertical-align: top;\n",
       "    }\n",
       "\n",
       "    .dataframe thead th {\n",
       "        text-align: right;\n",
       "    }\n",
       "</style>\n",
       "<table border=\"1\" class=\"dataframe\">\n",
       "  <thead>\n",
       "    <tr style=\"text-align: right;\">\n",
       "      <th></th>\n",
       "      <th>review_id</th>\n",
       "      <th>review</th>\n",
       "    </tr>\n",
       "  </thead>\n",
       "  <tbody>\n",
       "    <tr>\n",
       "      <th>0</th>\n",
       "      <td>1</td>\n",
       "      <td>Great danger, cool, motif and cantik2 jg model...</td>\n",
       "    </tr>\n",
       "    <tr>\n",
       "      <th>1</th>\n",
       "      <td>2</td>\n",
       "      <td>One of the shades don't fit well</td>\n",
       "    </tr>\n",
       "    <tr>\n",
       "      <th>2</th>\n",
       "      <td>3</td>\n",
       "      <td>Very comfortable</td>\n",
       "    </tr>\n",
       "    <tr>\n",
       "      <th>3</th>\n",
       "      <td>4</td>\n",
       "      <td>Fast delivery. Product expiry is on Dec 2022. ...</td>\n",
       "    </tr>\n",
       "    <tr>\n",
       "      <th>4</th>\n",
       "      <td>5</td>\n",
       "      <td>it's sooooo cute! i like playing with the glit...</td>\n",
       "    </tr>\n",
       "  </tbody>\n",
       "</table>\n",
       "</div>"
      ],
      "text/plain": [
       "   review_id                                             review\n",
       "0          1  Great danger, cool, motif and cantik2 jg model...\n",
       "1          2                   One of the shades don't fit well\n",
       "2          3                                   Very comfortable\n",
       "3          4  Fast delivery. Product expiry is on Dec 2022. ...\n",
       "4          5  it's sooooo cute! i like playing with the glit..."
      ]
     },
     "execution_count": 4,
     "metadata": {},
     "output_type": "execute_result"
    }
   ],
   "source": [
    "test_df.head()"
   ]
  },
  {
   "cell_type": "code",
   "execution_count": 5,
   "metadata": {
    "ExecuteTime": {
     "end_time": "2020-08-14T07:15:29.256079Z",
     "start_time": "2020-08-14T07:15:29.05997Z"
    },
    "execution": {
     "iopub.execute_input": "2020-08-17T01:46:49.895442Z",
     "iopub.status.busy": "2020-08-17T01:46:49.894521Z",
     "iopub.status.idle": "2020-08-17T01:46:50.272386Z",
     "shell.execute_reply": "2020-08-17T01:46:50.271747Z"
    },
    "papermill": {
     "duration": 0.397911,
     "end_time": "2020-08-17T01:46:50.272509",
     "exception": false,
     "start_time": "2020-08-17T01:46:49.874598",
     "status": "completed"
    },
    "tags": []
   },
   "outputs": [
    {
     "data": {
      "text/plain": [
       "1    0.028894\n",
       "2    0.021740\n",
       "3    0.058650\n",
       "4    0.094572\n",
       "5    0.796144\n",
       "Name: rating, dtype: float64"
      ]
     },
     "metadata": {},
     "output_type": "display_data"
    },
    {
     "data": {
      "image/png": "[encoded data removed]",
      "text/plain": [
       "<Figure size 432x288 with 1 Axes>"
      ]
     },
     "metadata": {},
     "output_type": "display_data"
    }
   ],
   "source": [
    "# Check the distribution of ratings\n",
    "display(train_df['rating'].value_counts(normalize=True).sort_index())\n",
    "sns.countplot(x='rating', data=train_df);"
   ]
  },
  {
   "cell_type": "code",
   "execution_count": 6,
   "metadata": {
    "execution": {
     "iopub.execute_input": "2020-08-17T01:46:50.310694Z",
     "iopub.status.busy": "2020-08-17T01:46:50.309643Z",
     "iopub.status.idle": "2020-08-17T01:46:51.292698Z",
     "shell.execute_reply": "2020-08-17T01:46:51.291869Z"
    },
    "papermill": {
     "duration": 1.00495,
     "end_time": "2020-08-17T01:46:51.292833",
     "exception": false,
     "start_time": "2020-08-17T01:46:50.287883",
     "status": "completed"
    },
    "tags": []
   },
   "outputs": [
    {
     "data": {
      "text/plain": [
       "1    0.055319\n",
       "2    0.041623\n",
       "3    0.112289\n",
       "4    0.181064\n",
       "5    0.609705\n",
       "Name: rating, dtype: float64"
      ]
     },
     "metadata": {},
     "output_type": "display_data"
    },
    {
     "data": {
      "image/png": "[encoded data removed]",
      "text/plain": [
       "<Figure size 432x288 with 1 Axes>"
      ]
     },
     "metadata": {},
     "output_type": "display_data"
    }
   ],
   "source": [
    "# Downsample rating of 5 while reducing size of train data\n",
    "train_df = train_df.drop(train_df[train_df['rating'] == 5].sample(frac=0.6, random_state=42).index)\n",
    "display(train_df['rating'].value_counts(normalize=True).sort_index())\n",
    "sns.countplot(x='rating', data=train_df);"
   ]
  },
  {
   "cell_type": "code",
   "execution_count": 7,
   "metadata": {
    "ExecuteTime": {
     "end_time": "2020-08-14T07:15:31.158007Z",
     "start_time": "2020-08-14T07:15:29.258038Z"
    },
    "execution": {
     "iopub.execute_input": "2020-08-17T01:46:51.404430Z",
     "iopub.status.busy": "2020-08-17T01:46:51.368478Z",
     "iopub.status.idle": "2020-08-17T01:47:05.728305Z",
     "shell.execute_reply": "2020-08-17T01:47:05.728986Z"
    },
    "papermill": {
     "duration": 14.418641,
     "end_time": "2020-08-17T01:47:05.729189",
     "exception": false,
     "start_time": "2020-08-17T01:46:51.310548",
     "status": "completed"
    },
    "tags": []
   },
   "outputs": [
    {
     "name": "stdout",
     "output_type": "stream",
     "text": [
      "8.80% of rows in train has emojis\n",
      "12.55% of rows in test has emojis\n"
     ]
    }
   ],
   "source": [
    "# Check is there emojis in the reviews\n",
    "train_emoji_row_count = 0\n",
    "test_emoji_row_count = 0\n",
    "\n",
    "for review in train_df['review']:\n",
    "    for char in review:\n",
    "        if char in emoji.UNICODE_EMOJI:\n",
    "            train_emoji_row_count += 1\n",
    "            break\n",
    "\n",
    "for review in test_df['review']:\n",
    "    for char in review:\n",
    "        if char in emoji.UNICODE_EMOJI:\n",
    "            test_emoji_row_count += 1\n",
    "            break\n",
    "            \n",
    "print('{:.2f}% of rows in train has emojis'.format(100*train_emoji_row_count/len(train_df)))\n",
    "print('{:.2f}% of rows in test has emojis'.format(100*test_emoji_row_count/len(test_df)))"
   ]
  },
  {
   "cell_type": "markdown",
   "metadata": {
    "papermill": {
     "duration": 0.019427,
     "end_time": "2020-08-17T01:47:05.766412",
     "exception": false,
     "start_time": "2020-08-17T01:47:05.746985",
     "status": "completed"
    },
    "tags": []
   },
   "source": [
    "# Data cleaning"
   ]
  },
  {
   "cell_type": "markdown",
   "metadata": {
    "papermill": {
     "duration": 0.015442,
     "end_time": "2020-08-17T01:47:05.797908",
     "exception": false,
     "start_time": "2020-08-17T01:47:05.782466",
     "status": "completed"
    },
    "tags": []
   },
   "source": [
    "Since there are sizeable number of emojis in the training and testing data, it is not logical to totally remove them as emojis play an essential part in sentiment analysis. Emojis can be converted to words using demojize."
   ]
  },
  {
   "cell_type": "code",
   "execution_count": 8,
   "metadata": {
    "ExecuteTime": {
     "end_time": "2020-08-14T07:15:31.173136Z",
     "start_time": "2020-08-14T07:15:31.158972Z"
    },
    "execution": {
     "iopub.execute_input": "2020-08-17T01:47:05.836277Z",
     "iopub.status.busy": "2020-08-17T01:47:05.835327Z",
     "iopub.status.idle": "2020-08-17T01:47:05.841226Z",
     "shell.execute_reply": "2020-08-17T01:47:05.840484Z"
    },
    "papermill": {
     "duration": 0.027459,
     "end_time": "2020-08-17T01:47:05.841351",
     "exception": false,
     "start_time": "2020-08-17T01:47:05.813892",
     "status": "completed"
    },
    "tags": []
   },
   "outputs": [
    {
     "name": "stdout",
     "output_type": "stream",
     "text": [
      "Before:\n"
     ]
    },
    {
     "data": {
      "text/plain": [
       "'Excellent, Satisfied, Good Packaging, Recommended & Nice... 😊😊😊😊 😎😎😎😎'"
      ]
     },
     "execution_count": 8,
     "metadata": {},
     "output_type": "execute_result"
    }
   ],
   "source": [
    "print('Before:')\n",
    "train_df.loc[70266, 'review']"
   ]
  },
  {
   "cell_type": "markdown",
   "metadata": {
    "papermill": {
     "duration": 0.015864,
     "end_time": "2020-08-17T01:47:05.873413",
     "exception": false,
     "start_time": "2020-08-17T01:47:05.857549",
     "status": "completed"
    },
    "tags": []
   },
   "source": [
    "Another problem is when there are many repeated emojis in a single review, so only unique emojis should be kept. Repeated words from demojize should be removed."
   ]
  },
  {
   "cell_type": "code",
   "execution_count": 9,
   "metadata": {
    "ExecuteTime": {
     "end_time": "2020-08-14T07:15:31.23697Z",
     "start_time": "2020-08-14T07:15:31.174977Z"
    },
    "execution": {
     "iopub.execute_input": "2020-08-17T01:47:05.931672Z",
     "iopub.status.busy": "2020-08-17T01:47:05.921415Z",
     "iopub.status.idle": "2020-08-17T01:47:05.985186Z",
     "shell.execute_reply": "2020-08-17T01:47:05.984420Z"
    },
    "papermill": {
     "duration": 0.09519,
     "end_time": "2020-08-17T01:47:05.985318",
     "exception": false,
     "start_time": "2020-08-17T01:47:05.890128",
     "status": "completed"
    },
    "tags": []
   },
   "outputs": [
    {
     "name": "stdout",
     "output_type": "stream",
     "text": [
      "After:\n"
     ]
    },
    {
     "data": {
      "text/plain": [
       "'Excellent, Satisfied, Good Packaging, Recommended & Nice... :smiling_face_with_smiling_eyes::smiling_face_with_smiling_eyes::smiling_face_with_smiling_eyes::smiling_face_with_smiling_eyes: :smiling_face_with_sunglasses::smiling_face_with_sunglasses::smiling_face_with_sunglasses::smiling_face_with_sunglasses:'"
      ]
     },
     "execution_count": 9,
     "metadata": {},
     "output_type": "execute_result"
    }
   ],
   "source": [
    "print('After:')\n",
    "emoji.demojize(train_df.loc[70266, 'review'])"
   ]
  },
  {
   "cell_type": "markdown",
   "metadata": {
    "papermill": {
     "duration": 0.015949,
     "end_time": "2020-08-17T01:47:06.017851",
     "exception": false,
     "start_time": "2020-08-17T01:47:06.001902",
     "status": "completed"
    },
    "tags": []
   },
   "source": [
    "The reviews are user generated texts so they often contains repeated letters (especially in bahasa indonesia). These repeated letters should be removed however, in English, there are words with repeated letters such as 'less' or 'good'. The easy solution is to only remove characters that are repeated more than 2 times."
   ]
  },
  {
   "cell_type": "code",
   "execution_count": 10,
   "metadata": {
    "ExecuteTime": {
     "end_time": "2020-08-14T07:15:31.252976Z",
     "start_time": "2020-08-14T07:15:31.237974Z"
    },
    "execution": {
     "iopub.execute_input": "2020-08-17T01:47:06.057270Z",
     "iopub.status.busy": "2020-08-17T01:47:06.056432Z",
     "iopub.status.idle": "2020-08-17T01:47:06.061437Z",
     "shell.execute_reply": "2020-08-17T01:47:06.062123Z"
    },
    "papermill": {
     "duration": 0.028011,
     "end_time": "2020-08-17T01:47:06.062278",
     "exception": false,
     "start_time": "2020-08-17T01:47:06.034267",
     "status": "completed"
    },
    "tags": []
   },
   "outputs": [
    {
     "name": "stdout",
     "output_type": "stream",
     "text": [
      "Before:\n"
     ]
    },
    {
     "data": {
      "text/plain": [
       "'ttttthhhhhhhhheeeeeeee bbbbbbbeeeeesssttttttttt bbbbaaannngggettttttt'"
      ]
     },
     "execution_count": 10,
     "metadata": {},
     "output_type": "execute_result"
    }
   ],
   "source": [
    "print('Before:')\n",
    "train_df.loc[92129, 'review'].lower()"
   ]
  },
  {
   "cell_type": "code",
   "execution_count": 11,
   "metadata": {
    "ExecuteTime": {
     "end_time": "2020-08-14T07:15:31.268452Z",
     "start_time": "2020-08-14T07:15:31.253976Z"
    },
    "execution": {
     "iopub.execute_input": "2020-08-17T01:47:06.103053Z",
     "iopub.status.busy": "2020-08-17T01:47:06.102004Z",
     "iopub.status.idle": "2020-08-17T01:47:06.106757Z",
     "shell.execute_reply": "2020-08-17T01:47:06.107326Z"
    },
    "papermill": {
     "duration": 0.02833,
     "end_time": "2020-08-17T01:47:06.107480",
     "exception": false,
     "start_time": "2020-08-17T01:47:06.079150",
     "status": "completed"
    },
    "tags": []
   },
   "outputs": [
    {
     "name": "stdout",
     "output_type": "stream",
     "text": [
      "After:\n"
     ]
    },
    {
     "data": {
      "text/plain": [
       "'the best banget'"
      ]
     },
     "execution_count": 11,
     "metadata": {},
     "output_type": "execute_result"
    }
   ],
   "source": [
    "print('After:')\n",
    "re.sub(r'(\\w)\\1{2,}', r'\\1', train_df.loc[92129, 'review'].lower())"
   ]
  },
  {
   "cell_type": "markdown",
   "metadata": {
    "papermill": {
     "duration": 0.016256,
     "end_time": "2020-08-17T01:47:06.140224",
     "exception": false,
     "start_time": "2020-08-17T01:47:06.123968",
     "status": "completed"
    },
    "tags": []
   },
   "source": [
    "Reviews also contain emoticons which have to be converted to words manually."
   ]
  },
  {
   "cell_type": "code",
   "execution_count": 12,
   "metadata": {
    "ExecuteTime": {
     "end_time": "2020-08-14T07:15:31.283979Z",
     "start_time": "2020-08-14T07:15:31.270975Z"
    },
    "execution": {
     "iopub.execute_input": "2020-08-17T01:47:06.179421Z",
     "iopub.status.busy": "2020-08-17T01:47:06.178545Z",
     "iopub.status.idle": "2020-08-17T01:47:06.183224Z",
     "shell.execute_reply": "2020-08-17T01:47:06.183786Z"
    },
    "papermill": {
     "duration": 0.027159,
     "end_time": "2020-08-17T01:47:06.183948",
     "exception": false,
     "start_time": "2020-08-17T01:47:06.156789",
     "status": "completed"
    },
    "tags": []
   },
   "outputs": [
    {
     "data": {
      "text/plain": [
       "'First time buying that rated 1 star, really say is so bad not even words to describe the currency as such, eating does not have any smell always milestone almost something ridiculous eating one piece of colic always . Trash it all wrapped :)) Feeling regret leaving money do not deserve one bit. Please do not be like me'"
      ]
     },
     "execution_count": 12,
     "metadata": {},
     "output_type": "execute_result"
    }
   ],
   "source": [
    "train_df.loc[541, 'review']"
   ]
  },
  {
   "cell_type": "markdown",
   "metadata": {
    "papermill": {
     "duration": 0.016708,
     "end_time": "2020-08-17T01:47:06.217935",
     "exception": false,
     "start_time": "2020-08-17T01:47:06.201227",
     "status": "completed"
    },
    "tags": []
   },
   "source": [
    "There are words that are shortened using Indonesian slang like 'brg' which means 'barang'. These words should be recovered as much as possible."
   ]
  },
  {
   "cell_type": "code",
   "execution_count": 13,
   "metadata": {
    "ExecuteTime": {
     "end_time": "2020-08-14T07:15:31.299973Z",
     "start_time": "2020-08-14T07:15:31.286972Z"
    },
    "execution": {
     "iopub.execute_input": "2020-08-17T01:47:06.258330Z",
     "iopub.status.busy": "2020-08-17T01:47:06.257475Z",
     "iopub.status.idle": "2020-08-17T01:47:06.261679Z",
     "shell.execute_reply": "2020-08-17T01:47:06.260890Z"
    },
    "papermill": {
     "duration": 0.026785,
     "end_time": "2020-08-17T01:47:06.261803",
     "exception": false,
     "start_time": "2020-08-17T01:47:06.235018",
     "status": "completed"
    },
    "tags": []
   },
   "outputs": [
    {
     "data": {
      "text/plain": [
       "'Thanks brg dah smpai'"
      ]
     },
     "execution_count": 13,
     "metadata": {},
     "output_type": "execute_result"
    }
   ],
   "source": [
    "train_df.loc[4912, 'review']"
   ]
  },
  {
   "cell_type": "markdown",
   "metadata": {
    "papermill": {
     "duration": 0.016751,
     "end_time": "2020-08-17T01:47:06.296014",
     "exception": false,
     "start_time": "2020-08-17T01:47:06.279263",
     "status": "completed"
    },
    "tags": []
   },
   "source": [
    "Duplicated reviews with same rating have to be removed"
   ]
  },
  {
   "cell_type": "code",
   "execution_count": 14,
   "metadata": {
    "ExecuteTime": {
     "end_time": "2020-08-14T07:15:31.380007Z",
     "start_time": "2020-08-14T07:15:31.303973Z"
    },
    "execution": {
     "iopub.execute_input": "2020-08-17T01:47:06.924178Z",
     "iopub.status.busy": "2020-08-17T01:47:06.923046Z",
     "iopub.status.idle": "2020-08-17T01:47:07.129646Z",
     "shell.execute_reply": "2020-08-17T01:47:07.129048Z"
    },
    "papermill": {
     "duration": 0.816301,
     "end_time": "2020-08-17T01:47:07.129771",
     "exception": false,
     "start_time": "2020-08-17T01:47:06.313470",
     "status": "completed"
    },
    "tags": []
   },
   "outputs": [
    {
     "data": {
      "text/html": [
       "<div>\n",
       "<style scoped>\n",
       "    .dataframe tbody tr th:only-of-type {\n",
       "        vertical-align: middle;\n",
       "    }\n",
       "\n",
       "    .dataframe tbody tr th {\n",
       "        vertical-align: top;\n",
       "    }\n",
       "\n",
       "    .dataframe thead th {\n",
       "        text-align: right;\n",
       "    }\n",
       "</style>\n",
       "<table border=\"1\" class=\"dataframe\">\n",
       "  <thead>\n",
       "    <tr style=\"text-align: right;\">\n",
       "      <th></th>\n",
       "      <th>review_id</th>\n",
       "      <th>review</th>\n",
       "      <th>rating</th>\n",
       "    </tr>\n",
       "  </thead>\n",
       "  <tbody>\n",
       "    <tr>\n",
       "      <th>41250</th>\n",
       "      <td>41250</td>\n",
       "      <td>Good product quality, original product, th...</td>\n",
       "      <td>3</td>\n",
       "    </tr>\n",
       "    <tr>\n",
       "      <th>1664974</th>\n",
       "      <td>1664974</td>\n",
       "      <td>Good product quality, original product, th...</td>\n",
       "      <td>3</td>\n",
       "    </tr>\n",
       "    <tr>\n",
       "      <th>1690207</th>\n",
       "      <td>1690207</td>\n",
       "      <td>Pomfret lid safely. Order yesterday, today ...</td>\n",
       "      <td>4</td>\n",
       "    </tr>\n",
       "    <tr>\n",
       "      <th>102055</th>\n",
       "      <td>102055</td>\n",
       "      <td>Pomfret lid safely. Order yesterday, today ...</td>\n",
       "      <td>4</td>\n",
       "    </tr>\n",
       "    <tr>\n",
       "      <th>145337</th>\n",
       "      <td>145337</td>\n",
       "      <td>Excellent product quality</td>\n",
       "      <td>5</td>\n",
       "    </tr>\n",
       "    <tr>\n",
       "      <th>...</th>\n",
       "      <td>...</td>\n",
       "      <td>...</td>\n",
       "      <td>...</td>\n",
       "    </tr>\n",
       "    <tr>\n",
       "      <th>24153</th>\n",
       "      <td>24153</td>\n",
       "      <td>😭gk function deh jdny, should be moved to the ...</td>\n",
       "      <td>2</td>\n",
       "    </tr>\n",
       "    <tr>\n",
       "      <th>1685861</th>\n",
       "      <td>1685861</td>\n",
       "      <td>😷 Have you thought about what a worst-case-sce...</td>\n",
       "      <td>4</td>\n",
       "    </tr>\n",
       "    <tr>\n",
       "      <th>77227</th>\n",
       "      <td>77227</td>\n",
       "      <td>😷 Have you thought about what a worst-case-sce...</td>\n",
       "      <td>4</td>\n",
       "    </tr>\n",
       "    <tr>\n",
       "      <th>1693295</th>\n",
       "      <td>1693295</td>\n",
       "      <td>🤗🤗baguus.. 👍👍</td>\n",
       "      <td>4</td>\n",
       "    </tr>\n",
       "    <tr>\n",
       "      <th>82400</th>\n",
       "      <td>82400</td>\n",
       "      <td>🤗🤗baguus.. 👍👍</td>\n",
       "      <td>4</td>\n",
       "    </tr>\n",
       "  </tbody>\n",
       "</table>\n",
       "<p>87480 rows × 3 columns</p>\n",
       "</div>"
      ],
      "text/plain": [
       "         review_id                                             review  rating\n",
       "41250        41250      Good product quality, original product, th...       3\n",
       "1664974    1664974      Good product quality, original product, th...       3\n",
       "1690207    1690207     Pomfret lid safely. Order yesterday, today ...       4\n",
       "102055      102055     Pomfret lid safely. Order yesterday, today ...       4\n",
       "145337      145337                          Excellent product quality       5\n",
       "...            ...                                                ...     ...\n",
       "24153        24153  😭gk function deh jdny, should be moved to the ...       2\n",
       "1685861    1685861  😷 Have you thought about what a worst-case-sce...       4\n",
       "77227        77227  😷 Have you thought about what a worst-case-sce...       4\n",
       "1693295    1693295                                      🤗🤗baguus.. 👍👍       4\n",
       "82400        82400                                      🤗🤗baguus.. 👍👍       4\n",
       "\n",
       "[87480 rows x 3 columns]"
      ]
     },
     "execution_count": 14,
     "metadata": {},
     "output_type": "execute_result"
    }
   ],
   "source": [
    "train_df[train_df['review'].duplicated(keep=False)].sort_values(['review'])"
   ]
  },
  {
   "cell_type": "markdown",
   "metadata": {
    "papermill": {
     "duration": 0.017061,
     "end_time": "2020-08-17T01:47:07.164138",
     "exception": false,
     "start_time": "2020-08-17T01:47:07.147077",
     "status": "completed"
    },
    "tags": []
   },
   "source": [
    "Combine all the cleaning steps into 1 helper function"
   ]
  },
  {
   "cell_type": "code",
   "execution_count": 15,
   "metadata": {
    "ExecuteTime": {
     "end_time": "2020-08-14T07:15:31.411147Z",
     "start_time": "2020-08-14T07:15:31.381972Z"
    },
    "execution": {
     "iopub.execute_input": "2020-08-17T01:47:07.223962Z",
     "iopub.status.busy": "2020-08-17T01:47:07.202500Z",
     "iopub.status.idle": "2020-08-17T01:47:07.326070Z",
     "shell.execute_reply": "2020-08-17T01:47:07.325416Z"
    },
    "papermill": {
     "duration": 0.144713,
     "end_time": "2020-08-17T01:47:07.326242",
     "exception": false,
     "start_time": "2020-08-17T01:47:07.181529",
     "status": "completed"
    },
    "tags": []
   },
   "outputs": [],
   "source": [
    "def clean(text):\n",
    "    # Convert text to lowercase\n",
    "    text = text.lower()\n",
    "    # Remove new line\n",
    "    text = re.sub(r'\\n', ' ', text)\n",
    "     # Convert emojis to words\n",
    "    text  = emoji.demojize(text)\n",
    "    # Remove repeated emojis\n",
    "    text = text.replace(':', ' ')\n",
    "    tokenized_text = text.split()\n",
    "    non_repeated_text = []\n",
    "    for word in tokenized_text:\n",
    "        if word not in non_repeated_text:\n",
    "            non_repeated_text.append(word)\n",
    "    non_repeated_text = ' '.join(non_repeated_text)\n",
    "    non_repeated_text = non_repeated_text.replace('_', ' ').replace('-', ' ')\n",
    "    # Manually replace emoticon with word\n",
    "    text = re.sub(r':\\(', 'dislike', non_repeated_text)\n",
    "    text = re.sub(r': \\(\\(', 'dislike', text)\n",
    "    text = re.sub(r':, \\(', 'dislike', text)\n",
    "    text = re.sub(r':\\)', 'smile', text)\n",
    "    text = re.sub(r';\\)', 'smile', text)\n",
    "    text = re.sub(r':\\)\\)\\)', 'smile', text)\n",
    "    text = re.sub(r':\\)\\)\\)\\)\\)\\)', 'smile', text)\n",
    "    text = re.sub(r'=\\)\\)\\)\\)', 'smile', text)\n",
    "    # Remove puntuation\n",
    "    text = re.sub('[^a-z0-9 ]', ' ', text)\n",
    "    # Remove more than 2 repeated characters\n",
    "    text = re.sub(r'(\\w)\\1{2,}', r'\\1', text)\n",
    "    # Recover shortened Indonesian slang into proper words\n",
    "    text = re.sub(r'\\bapaa\\b', 'apa', text)\n",
    "    text = re.sub(r'\\bbsk\\b', 'besok', text)\n",
    "    text = re.sub(r'\\bbrngnya\\b', 'barangnya', text)\n",
    "    text = re.sub(r'\\bbrp\\b', 'berapa', text)\n",
    "    text = re.sub(r'\\bbgt\\b', 'banget', text)\n",
    "    text = re.sub(r'\\bbngt\\b', 'banget', text)\n",
    "    text = re.sub(r'\\bgini\\b', 'begini', text)\n",
    "    text = re.sub(r'\\bbrg\\b', 'barang', text)\n",
    "    text = re.sub(r'\\bdtg\\b', 'datang', text)\n",
    "    text = re.sub(r'\\bd\\b', 'di', text)\n",
    "    text = re.sub(r'\\bsdh\\b', 'sudah', text)\n",
    "    text = re.sub(r'\\bdri\\b', 'dari', text)\n",
    "    text = re.sub(r'\\bdsni\\b', 'disini', text)\n",
    "    text = re.sub(r'\\bgk\\b', 'gak', text)\n",
    "    text = re.sub(r'\\bhrs\\b', 'harus', text)\n",
    "    text = re.sub(r'\\bjd\\b', 'jadi', text)\n",
    "    text = re.sub(r'\\bjg\\b', 'juga', text)\n",
    "    text = re.sub(r'\\bjgn\\b', 'jangan', text)\n",
    "    text = re.sub(r'\\blg\\b', 'lagi', text)\n",
    "    text = re.sub(r'\\blgi\\b', 'lagi', text)\n",
    "    text = re.sub(r'\\blbh\\b', 'lebih', text)\n",
    "    text = re.sub(r'\\blbih\\b', 'lebih', text)\n",
    "    text = re.sub(r'\\bmksh\\b', 'makasih', text)\n",
    "    text = re.sub(r'\\bmna\\b', 'mana', text)\n",
    "    text = re.sub(r'\\borg\\b', 'orang', text)\n",
    "    text = re.sub(r'\\bpjg\\b', 'panjang', text)\n",
    "    text = re.sub(r'\\bka\\b', 'kakak', text)\n",
    "    text = re.sub(r'\\bkk\\b', 'kakak', text)\n",
    "    text = re.sub(r'\\bklo\\b', 'kalau', text)\n",
    "    text = re.sub(r'\\bkmrn\\b', 'kemarin', text)\n",
    "    text = re.sub(r'\\bkmrin\\b', 'kemarin', text)\n",
    "    text = re.sub(r'\\bknp\\b', 'kenapa', text)\n",
    "    text = re.sub(r'\\bkcil\\b', 'kecil', text)\n",
    "    text = re.sub(r'\\bgmn\\b', 'gimana', text)\n",
    "    text = re.sub(r'\\bgmna\\b', 'gimana', text)\n",
    "    text = re.sub(r'\\btp\\b', 'tapi', text)\n",
    "    text = re.sub(r'\\btq\\b', 'thanks', text)\n",
    "    text = re.sub(r'\\btks\\b', 'thanks', text)\n",
    "    text = re.sub(r'\\btlg\\b', 'tolong', text)\n",
    "    text = re.sub(r'\\bgk\\b', 'tidak', text)\n",
    "    text = re.sub(r'\\bgak\\b', 'tidak', text)\n",
    "    text = re.sub(r'\\bgpp\\b', 'tidak apa apa', text)\n",
    "    text = re.sub(r'\\bgapapa\\b', 'tidak apa apa', text)\n",
    "    text = re.sub(r'\\bga\\b', 'tidak', text)\n",
    "    text = re.sub(r'\\btgl\\b', 'tanggal', text)\n",
    "    text = re.sub(r'\\btggl\\b', 'tanggal', text)\n",
    "    text = re.sub(r'\\bgamau\\b', 'tidak mau', text)\n",
    "    text = re.sub(r'\\bsy\\b', 'saya', text)\n",
    "    text = re.sub(r'\\bsis\\b', 'sister', text)\n",
    "    text = re.sub(r'\\bsdgkan\\b', 'sedangkan', text)\n",
    "    text = re.sub(r'\\bmdh2n\\b', 'semoga', text)\n",
    "    text = re.sub(r'\\bsmoga\\b', 'semoga', text)\n",
    "    text = re.sub(r'\\bsmpai\\b', 'sampai', text)\n",
    "    text = re.sub(r'\\bnympe\\b', 'sampai', text)\n",
    "    text = re.sub(r'\\bdah\\b', 'sudah', text)\n",
    "    text = re.sub(r'\\bberkali2\\b', 'repeated', text)\n",
    "    text = re.sub(r'\\byg\\b', 'yang', text)\n",
    "    text = re.sub(r'\\balhamdulillah\\b', 'thank god', text)\n",
    "    text = re.sub(r'\\bbgus\\b', 'bagus', text)\n",
    "    text = re.sub(r'\\b[\\w]*makas[\\w]*\\b', 'makasih', text)\n",
    "    text = re.sub(r'\\b[\\w]*trimak[\\w]*\\b', 'terima kasih', text)\n",
    "    # Remove noisy text (words with more than 14 characters)\n",
    "    text = ' '.join(word for word in text.split() if len(word) <= 14)\n",
    "    \n",
    "    return text"
   ]
  },
  {
   "cell_type": "code",
   "execution_count": 16,
   "metadata": {
    "ExecuteTime": {
     "end_time": "2020-08-14T07:15:31.426977Z",
     "start_time": "2020-08-14T07:15:31.412973Z"
    },
    "execution": {
     "iopub.execute_input": "2020-08-17T01:47:07.375049Z",
     "iopub.status.busy": "2020-08-17T01:47:07.373960Z",
     "iopub.status.idle": "2020-08-17T01:47:07.378592Z",
     "shell.execute_reply": "2020-08-17T01:47:07.377538Z"
    },
    "papermill": {
     "duration": 0.034698,
     "end_time": "2020-08-17T01:47:07.378761",
     "exception": false,
     "start_time": "2020-08-17T01:47:07.344063",
     "status": "completed"
    },
    "tags": []
   },
   "outputs": [
    {
     "name": "stdout",
     "output_type": "stream",
     "text": [
      "Before:\n",
      "☁☁🎈🎈☁☁☁☁ 😊😊👀😊🌛☁☁☁ 😊😊😊😊☁☁☁☁ ☁☁😊😊☁☁☁☁ ☁☁😊😊☁☁☁☁ ☁☁😊😊☁☁☁☁ ☁☁😊😊☁☁☁☁ ☁☁😊😊☁☁☁🎈 ☁☁😊😊😊😊😊😊 ☁☁😊😊😊😊😊😊 ☁☁😊☁😊☁😊😊 🌾🌾😊🌾😊🌾😊😊 \n",
      "After:\n",
      "cloud balloon smiling face with smiling eyes eyes first quarter moon face sheaf of rice\n"
     ]
    }
   ],
   "source": [
    "# Quick test on clean function\n",
    "test_review = train_df.loc[75116, 'review']\n",
    "print('Before:\\n{}'.format(test_review))\n",
    "cleaned_test_review = clean(test_review)\n",
    "print('After:\\n{}'.format(cleaned_test_review))"
   ]
  },
  {
   "cell_type": "code",
   "execution_count": 17,
   "metadata": {
    "ExecuteTime": {
     "end_time": "2020-08-14T07:18:18.812858Z",
     "start_time": "2020-08-14T07:15:31.428978Z"
    },
    "execution": {
     "iopub.execute_input": "2020-08-17T01:47:07.421795Z",
     "iopub.status.busy": "2020-08-17T01:47:07.420283Z",
     "iopub.status.idle": "2020-08-17T01:59:08.728048Z",
     "shell.execute_reply": "2020-08-17T01:59:08.727426Z"
    },
    "papermill": {
     "duration": 721.331778,
     "end_time": "2020-08-17T01:59:08.728206",
     "exception": false,
     "start_time": "2020-08-17T01:47:07.396428",
     "status": "completed"
    },
    "tags": []
   },
   "outputs": [
    {
     "name": "stderr",
     "output_type": "stream",
     "text": [
      "100%|██████████| 894360/894360 [11:15<00:00, 1324.17it/s]\n",
      "100%|██████████| 60427/60427 [00:45<00:00, 1318.68it/s]\n"
     ]
    }
   ],
   "source": [
    "# Apply clean function to train and test reviews\n",
    "train_df['review'] = train_df['review'].progress_apply(lambda x: clean(x))\n",
    "test_df['review'] = test_df['review'].progress_apply(lambda x: clean(x))"
   ]
  },
  {
   "cell_type": "code",
   "execution_count": 18,
   "metadata": {
    "ExecuteTime": {
     "end_time": "2020-08-14T07:18:18.924888Z",
     "start_time": "2020-08-14T07:18:18.81786Z"
    },
    "execution": {
     "iopub.execute_input": "2020-08-17T01:59:09.849604Z",
     "iopub.status.busy": "2020-08-17T01:59:09.848552Z",
     "iopub.status.idle": "2020-08-17T01:59:10.245152Z",
     "shell.execute_reply": "2020-08-17T01:59:10.244392Z"
    },
    "papermill": {
     "duration": 1.057931,
     "end_time": "2020-08-17T01:59:10.245292",
     "exception": false,
     "start_time": "2020-08-17T01:59:09.187361",
     "status": "completed"
    },
    "tags": []
   },
   "outputs": [
    {
     "name": "stdout",
     "output_type": "stream",
     "text": [
      "Number of empty reviews in train: 1385\n",
      "Number of empty reviews in test: 19\n",
      "Replacing..\n",
      "Number of empty reviews in train: 0\n",
      "Number of empty reviews in test: 0\n"
     ]
    }
   ],
   "source": [
    "# Final check for empty reviews or duplicated reviews\n",
    "print('Number of empty reviews in train: {}'.format((train_df['review'] == '').sum()))\n",
    "print('Number of empty reviews in test: {}'.format((test_df['review'] == '').sum()))\n",
    "\n",
    "# Replace empty reviews with the word 'unknown'\n",
    "train_df.loc[train_df['review'] == '', 'review'] = 'unknown'\n",
    "test_df.loc[test_df['review'] == '', 'review'] = 'unknown'\n",
    "\n",
    "print('Replacing..')\n",
    "print('Number of empty reviews in train: {}'.format((train_df['review'] == '').sum()))\n",
    "print('Number of empty reviews in test: {}'.format((test_df['review'] == '').sum()))"
   ]
  },
  {
   "cell_type": "code",
   "execution_count": 19,
   "metadata": {
    "ExecuteTime": {
     "end_time": "2020-08-14T07:22:16.878249Z",
     "start_time": "2020-08-14T07:22:16.856263Z"
    },
    "execution": {
     "iopub.execute_input": "2020-08-17T01:59:11.194509Z",
     "iopub.status.busy": "2020-08-17T01:59:11.193718Z",
     "iopub.status.idle": "2020-08-17T01:59:12.161275Z",
     "shell.execute_reply": "2020-08-17T01:59:12.160528Z"
    },
    "papermill": {
     "duration": 1.459825,
     "end_time": "2020-08-17T01:59:12.161403",
     "exception": false,
     "start_time": "2020-08-17T01:59:10.701578",
     "status": "completed"
    },
    "tags": []
   },
   "outputs": [
    {
     "data": {
      "text/html": [
       "<div>\n",
       "<style scoped>\n",
       "    .dataframe tbody tr th:only-of-type {\n",
       "        vertical-align: middle;\n",
       "    }\n",
       "\n",
       "    .dataframe tbody tr th {\n",
       "        vertical-align: top;\n",
       "    }\n",
       "\n",
       "    .dataframe thead th {\n",
       "        text-align: right;\n",
       "    }\n",
       "</style>\n",
       "<table border=\"1\" class=\"dataframe\">\n",
       "  <thead>\n",
       "    <tr style=\"text-align: right;\">\n",
       "      <th></th>\n",
       "      <th>review_id</th>\n",
       "      <th>review</th>\n",
       "      <th>rating</th>\n",
       "    </tr>\n",
       "  </thead>\n",
       "  <tbody>\n",
       "  </tbody>\n",
       "</table>\n",
       "</div>"
      ],
      "text/plain": [
       "Empty DataFrame\n",
       "Columns: [review_id, review, rating]\n",
       "Index: []"
      ]
     },
     "execution_count": 19,
     "metadata": {},
     "output_type": "execute_result"
    }
   ],
   "source": [
    "# Remove duplicated reviews with the same rating\n",
    "train_df = train_df.drop_duplicates(subset=['review', 'rating'], keep='first')\n",
    "\n",
    "# Check for duplicated reviews with the same rating\n",
    "train_df[train_df.duplicated(subset=['review', 'rating'], keep=False)]"
   ]
  },
  {
   "cell_type": "markdown",
   "metadata": {
    "papermill": {
     "duration": 0.457705,
     "end_time": "2020-08-17T01:59:13.123221",
     "exception": false,
     "start_time": "2020-08-17T01:59:12.665516",
     "status": "completed"
    },
    "tags": []
   },
   "source": [
    "# Training"
   ]
  },
  {
   "cell_type": "markdown",
   "metadata": {
    "papermill": {
     "duration": 0.505297,
     "end_time": "2020-08-17T01:59:14.089812",
     "exception": false,
     "start_time": "2020-08-17T01:59:13.584515",
     "status": "completed"
    },
    "tags": []
   },
   "source": [
    "## Import training library"
   ]
  },
  {
   "cell_type": "code",
   "execution_count": 20,
   "metadata": {
    "ExecuteTime": {
     "end_time": "2020-08-14T07:54:45.021218Z",
     "start_time": "2020-08-14T07:54:44.956086Z"
    },
    "execution": {
     "iopub.execute_input": "2020-08-17T01:59:15.014302Z",
     "iopub.status.busy": "2020-08-17T01:59:15.013456Z",
     "iopub.status.idle": "2020-08-17T01:59:22.384755Z",
     "shell.execute_reply": "2020-08-17T01:59:22.383962Z"
    },
    "papermill": {
     "duration": 7.836068,
     "end_time": "2020-08-17T01:59:22.384881",
     "exception": false,
     "start_time": "2020-08-17T01:59:14.548813",
     "status": "completed"
    },
    "tags": []
   },
   "outputs": [
    {
     "name": "stderr",
     "output_type": "stream",
     "text": [
      "\u001b[34m\u001b[1mwandb\u001b[0m: \u001b[33mWARNING\u001b[0m W&B installed but not logged in.  Run `wandb login` or set the WANDB_API_KEY env variable.\n"
     ]
    }
   ],
   "source": [
    "import tensorflow as tf\n",
    "from tensorflow.keras.layers import Dense, Input, Dropout\n",
    "from tensorflow.keras.optimizers import Adam\n",
    "from tensorflow.keras.models import Model\n",
    "from tensorflow.keras.callbacks import Callback, ModelCheckpoint, ReduceLROnPlateau, EarlyStopping\n",
    "from tensorflow.keras.utils import to_categorical\n",
    "\n",
    "import transformers\n",
    "from transformers import TFAutoModel, AutoTokenizer\n",
    "\n",
    "from sklearn.utils.class_weight import compute_class_weight\n",
    "from sklearn.model_selection import StratifiedShuffleSplit"
   ]
  },
  {
   "cell_type": "markdown",
   "metadata": {
    "papermill": {
     "duration": 0.458727,
     "end_time": "2020-08-17T01:59:23.354072",
     "exception": false,
     "start_time": "2020-08-17T01:59:22.895345",
     "status": "completed"
    },
    "tags": []
   },
   "source": [
    "## Helper functions"
   ]
  },
  {
   "cell_type": "code",
   "execution_count": 21,
   "metadata": {
    "execution": {
     "iopub.execute_input": "2020-08-17T01:59:24.280510Z",
     "iopub.status.busy": "2020-08-17T01:59:24.279448Z",
     "iopub.status.idle": "2020-08-17T01:59:24.282759Z",
     "shell.execute_reply": "2020-08-17T01:59:24.282075Z"
    },
    "papermill": {
     "duration": 0.472184,
     "end_time": "2020-08-17T01:59:24.282888",
     "exception": false,
     "start_time": "2020-08-17T01:59:23.810704",
     "status": "completed"
    },
    "tags": []
   },
   "outputs": [],
   "source": [
    "import os\n",
    "\n",
    "__print__ = print\n",
    "# Function to print statements into Kaggle logs\n",
    "def print(string):\n",
    "    os.system(f'echo \\\"{string}\\\"')\n",
    "    __print__(string)"
   ]
  },
  {
   "cell_type": "code",
   "execution_count": 22,
   "metadata": {
    "execution": {
     "iopub.execute_input": "2020-08-17T01:59:25.257687Z",
     "iopub.status.busy": "2020-08-17T01:59:25.256847Z",
     "iopub.status.idle": "2020-08-17T01:59:25.301449Z",
     "shell.execute_reply": "2020-08-17T01:59:25.300658Z"
    },
    "papermill": {
     "duration": 0.513264,
     "end_time": "2020-08-17T01:59:25.301578",
     "exception": false,
     "start_time": "2020-08-17T01:59:24.788314",
     "status": "completed"
    },
    "tags": []
   },
   "outputs": [],
   "source": [
    "from datetime import datetime\n",
    "from pytz import timezone, utc\n",
    "\n",
    "SGT = timezone('Asia/Singapore')\n",
    "# Custom callback to print timestamp, training loss and validation loss\n",
    "class PrintSystemLogPerEpoch(Callback):\n",
    "    def on_epoch_begin(self, epoch, logs={}):\n",
    "        t = utc.localize(datetime.utcnow()).astimezone(SGT).time()\n",
    "        print(f'* [Epoch {epoch+1}] begins at {t}')\n",
    "    def on_epoch_end(self, epoch, logs={}):\n",
    "        t = utc.localize(datetime.utcnow()).astimezone(SGT).time()\n",
    "        print(f'\\n* [Epoch {epoch+1}] ends at {t} | loss={logs[\"loss\"]:0.4f}, val_loss={logs[\"val_loss\"]:0.4f}')"
   ]
  },
  {
   "cell_type": "code",
   "execution_count": 23,
   "metadata": {
    "execution": {
     "iopub.execute_input": "2020-08-17T01:59:26.283751Z",
     "iopub.status.busy": "2020-08-17T01:59:26.282971Z",
     "iopub.status.idle": "2020-08-17T01:59:26.286650Z",
     "shell.execute_reply": "2020-08-17T01:59:26.285866Z"
    },
    "papermill": {
     "duration": 0.52055,
     "end_time": "2020-08-17T01:59:26.286779",
     "exception": false,
     "start_time": "2020-08-17T01:59:25.766229",
     "status": "completed"
    },
    "tags": []
   },
   "outputs": [],
   "source": [
    "# Fast encoding \n",
    "def fast_encode(texts, tokenizer, chunk_size=256, maxlen=512):\n",
    "    \"\"\"\n",
    "    https://www.kaggle.com/xhlulu/jigsaw-tpu-distilbert-with-huggingface-and-keras\n",
    "    \"\"\"\n",
    "    tokenizer.enable_truncation(max_length=maxlen)\n",
    "    tokenizer.enable_padding(max_length=maxlen)\n",
    "    all_ids = []\n",
    "    \n",
    "    for i in tqdm(range(0, len(texts), chunk_size)):\n",
    "        text_chunk = texts[i:i+chunk_size].tolist()\n",
    "        encs = tokenizer.encode_batch(text_chunk)\n",
    "        all_ids.extend([enc.ids for enc in encs])\n",
    "    \n",
    "    return np.array(all_ids)"
   ]
  },
  {
   "cell_type": "code",
   "execution_count": 24,
   "metadata": {
    "ExecuteTime": {
     "end_time": "2020-08-14T07:53:56.522774Z",
     "start_time": "2020-08-14T07:53:56.507777Z"
    },
    "execution": {
     "iopub.execute_input": "2020-08-17T01:59:27.212696Z",
     "iopub.status.busy": "2020-08-17T01:59:27.211687Z",
     "iopub.status.idle": "2020-08-17T01:59:27.214949Z",
     "shell.execute_reply": "2020-08-17T01:59:27.214344Z"
    },
    "papermill": {
     "duration": 0.467564,
     "end_time": "2020-08-17T01:59:27.215076",
     "exception": false,
     "start_time": "2020-08-17T01:59:26.747512",
     "status": "completed"
    },
    "tags": []
   },
   "outputs": [],
   "source": [
    "# Regular encoding\n",
    "def regular_encode(texts, tokenizer, pad_max=True, maxlen=512):\n",
    "    enc_dic = tokenizer.batch_encode_plus(\n",
    "        texts, \n",
    "#         return_attention_masks=False, \n",
    "        return_token_type_ids=False,\n",
    "        pad_to_max_length=pad_max,\n",
    "        max_length=maxlen,\n",
    "        truncation=True\n",
    "    )\n",
    "    \n",
    "    return np.array(enc_dic['input_ids'])"
   ]
  },
  {
   "cell_type": "markdown",
   "metadata": {
    "papermill": {
     "duration": 0.458398,
     "end_time": "2020-08-17T01:59:28.235279",
     "exception": false,
     "start_time": "2020-08-17T01:59:27.776881",
     "status": "completed"
    },
    "tags": []
   },
   "source": [
    "## TPU Config"
   ]
  },
  {
   "cell_type": "code",
   "execution_count": 25,
   "metadata": {
    "execution": {
     "iopub.execute_input": "2020-08-17T01:59:29.216627Z",
     "iopub.status.busy": "2020-08-17T01:59:29.215845Z",
     "iopub.status.idle": "2020-08-17T01:59:33.877492Z",
     "shell.execute_reply": "2020-08-17T01:59:33.876415Z"
    },
    "papermill": {
     "duration": 5.183945,
     "end_time": "2020-08-17T01:59:33.877629",
     "exception": false,
     "start_time": "2020-08-17T01:59:28.693684",
     "status": "completed"
    },
    "tags": []
   },
   "outputs": [
    {
     "name": "stdout",
     "output_type": "stream",
     "text": [
      "Running on TPU grpc://10.0.0.2:8470\n",
      "REPLICAS: 8\n"
     ]
    }
   ],
   "source": [
    "# Detect hardware, return appropriate distribution strategy\n",
    "try:\n",
    "    # TPU detection. No parameters necessary if TPU_NAME environment variable is\n",
    "    # set: this is always the case on Kaggle.\n",
    "    tpu = tf.distribute.cluster_resolver.TPUClusterResolver()\n",
    "    print('Running on TPU {}'.format(tpu.master()))\n",
    "except ValueError:\n",
    "    tpu = None\n",
    "\n",
    "if tpu:\n",
    "    tf.config.experimental_connect_to_cluster(tpu)\n",
    "    tf.tpu.experimental.initialize_tpu_system(tpu)\n",
    "    strategy = tf.distribute.experimental.TPUStrategy(tpu)\n",
    "else:\n",
    "    # Default distribution strategy in Tensorflow. Works on CPU and single GPU.\n",
    "    strategy = tf.distribute.get_strategy()\n",
    "\n",
    "print(\"REPLICAS: {}\".format(strategy.num_replicas_in_sync))"
   ]
  },
  {
   "cell_type": "code",
   "execution_count": 26,
   "metadata": {
    "ExecuteTime": {
     "end_time": "2020-08-14T07:43:25.726051Z",
     "start_time": "2020-08-14T07:43:25.71038Z"
    },
    "execution": {
     "iopub.execute_input": "2020-08-17T01:59:34.811526Z",
     "iopub.status.busy": "2020-08-17T01:59:34.810452Z",
     "iopub.status.idle": "2020-08-17T01:59:34.814033Z",
     "shell.execute_reply": "2020-08-17T01:59:34.813440Z"
    },
    "papermill": {
     "duration": 0.470671,
     "end_time": "2020-08-17T01:59:34.814225",
     "exception": false,
     "start_time": "2020-08-17T01:59:34.343554",
     "status": "completed"
    },
    "tags": []
   },
   "outputs": [],
   "source": [
    "AUTO = tf.data.experimental.AUTOTUNE\n",
    "# Configuration\n",
    "EPOCHS = 6\n",
    "BATCH_SIZE = 64 * strategy.num_replicas_in_sync\n",
    "RANDOM_SEED = 42\n",
    "MODEL = 'jplu/tf-xlm-roberta-large'\n",
    "NUM_CLASSES = 5\n",
    "DEBUG = False"
   ]
  },
  {
   "cell_type": "markdown",
   "metadata": {
    "papermill": {
     "duration": 0.46926,
     "end_time": "2020-08-17T01:59:35.789792",
     "exception": false,
     "start_time": "2020-08-17T01:59:35.320532",
     "status": "completed"
    },
    "tags": []
   },
   "source": [
    "## Have to find out the max length of tokens to set MAX_LEN"
   ]
  },
  {
   "cell_type": "code",
   "execution_count": 27,
   "metadata": {
    "ExecuteTime": {
     "end_time": "2020-08-14T07:45:51.082024Z",
     "start_time": "2020-08-14T07:45:50.845035Z"
    },
    "execution": {
     "iopub.execute_input": "2020-08-17T01:59:36.760954Z",
     "iopub.status.busy": "2020-08-17T01:59:36.759887Z",
     "iopub.status.idle": "2020-08-17T02:01:33.740291Z",
     "shell.execute_reply": "2020-08-17T02:01:33.739203Z"
    },
    "papermill": {
     "duration": 117.493809,
     "end_time": "2020-08-17T02:01:33.740491",
     "exception": false,
     "start_time": "2020-08-17T01:59:36.246682",
     "status": "completed"
    },
    "tags": []
   },
   "outputs": [
    {
     "data": {
      "application/vnd.jupyter.widget-view+json": {
       "model_id": "f9611bc0c76c48cca5ede0c73d3fce86",
       "version_major": 2,
       "version_minor": 0
      },
      "text/plain": [
       "HBox(children=(FloatProgress(value=0.0, description='Downloading', max=513.0, style=ProgressStyle(description_…"
      ]
     },
     "metadata": {},
     "output_type": "display_data"
    },
    {
     "name": "stdout",
     "output_type": "stream",
     "text": [
      "\n"
     ]
    },
    {
     "data": {
      "application/vnd.jupyter.widget-view+json": {
       "model_id": "05f8c6dabcdb4bd790cf994beed101e5",
       "version_major": 2,
       "version_minor": 0
      },
      "text/plain": [
       "HBox(children=(FloatProgress(value=0.0, description='Downloading', max=5069051.0, style=ProgressStyle(descript…"
      ]
     },
     "metadata": {},
     "output_type": "display_data"
    },
    {
     "name": "stdout",
     "output_type": "stream",
     "text": [
      "\n"
     ]
    },
    {
     "data": {
      "text/plain": [
       "array([ 4.,  5.,  7., 12., 17., 25., 36., 58., 62.])"
      ]
     },
     "execution_count": 27,
     "metadata": {},
     "output_type": "execute_result"
    },
    {
     "data": {
      "image/png": "[encoded data removed]",
      "text/plain": [
       "<Figure size 432x288 with 1 Axes>"
      ]
     },
     "metadata": {},
     "output_type": "display_data"
    }
   ],
   "source": [
    "# First load the tokenizer\n",
    "tokenizer = AutoTokenizer.from_pretrained(MODEL)\n",
    "\n",
    "tokens = regular_encode(train_df['review'].values, tokenizer, pad_max=False)\n",
    "\n",
    "token_length = [len(token) for token in tokens]\n",
    "sns.distplot(token_length);\n",
    "\n",
    "# Pecentiles of token lengths\n",
    "np.percentile(token_length, [0.5, 1, 5, 25, 50, 75, 90, 99, 99.5])"
   ]
  },
  {
   "cell_type": "code",
   "execution_count": 28,
   "metadata": {
    "ExecuteTime": {
     "end_time": "2020-08-14T07:50:49.54705Z",
     "start_time": "2020-08-14T07:50:49.54305Z"
    },
    "execution": {
     "iopub.execute_input": "2020-08-17T02:01:34.731948Z",
     "iopub.status.busy": "2020-08-17T02:01:34.731210Z",
     "iopub.status.idle": "2020-08-17T02:01:34.735035Z",
     "shell.execute_reply": "2020-08-17T02:01:34.734285Z"
    },
    "papermill": {
     "duration": 0.489996,
     "end_time": "2020-08-17T02:01:34.735183",
     "exception": false,
     "start_time": "2020-08-17T02:01:34.245187",
     "status": "completed"
    },
    "tags": []
   },
   "outputs": [],
   "source": [
    "# Setting MAX_LEN to > 99% percentile\n",
    "MAX_LEN = 64"
   ]
  },
  {
   "cell_type": "markdown",
   "metadata": {
    "papermill": {
     "duration": 0.457334,
     "end_time": "2020-08-17T02:01:35.698820",
     "exception": false,
     "start_time": "2020-08-17T02:01:35.241486",
     "status": "completed"
    },
    "tags": []
   },
   "source": [
    "## Model"
   ]
  },
  {
   "cell_type": "code",
   "execution_count": 29,
   "metadata": {
    "ExecuteTime": {
     "end_time": "2020-08-14T07:50:50.211248Z",
     "start_time": "2020-08-14T07:50:50.19089Z"
    },
    "execution": {
     "iopub.execute_input": "2020-08-17T02:01:36.670374Z",
     "iopub.status.busy": "2020-08-17T02:01:36.669640Z",
     "iopub.status.idle": "2020-08-17T02:01:36.673056Z",
     "shell.execute_reply": "2020-08-17T02:01:36.672343Z"
    },
    "papermill": {
     "duration": 0.515354,
     "end_time": "2020-08-17T02:01:36.673191",
     "exception": false,
     "start_time": "2020-08-17T02:01:36.157837",
     "status": "completed"
    },
    "tags": []
   },
   "outputs": [],
   "source": [
    "def build_model(transformer, max_len=512):\n",
    "    \"\"\"\n",
    "    https://www.kaggle.com/xhlulu/jigsaw-tpu-distilbert-with-huggingface-and-keras\n",
    "    \"\"\"\n",
    "    input_word_ids = Input(shape=(max_len,), dtype=tf.int32, name='input_word_ids')\n",
    "    sequence_output = transformer(input_word_ids)[0]\n",
    "    # Take only the first token of the sequence output because it contains the CLS token which encodes the meaning of the entire review\n",
    "    cls_token = sequence_output[:, 0, :]\n",
    "    out = Dense(NUM_CLASSES, activation='softmax')(cls_token)\n",
    "    \n",
    "    model = Model(inputs=input_word_ids, outputs=out)\n",
    "    model.compile(Adam(lr=1e-5), loss='categorical_crossentropy', metrics=['accuracy'])\n",
    "    \n",
    "    return model"
   ]
  },
  {
   "cell_type": "code",
   "execution_count": 30,
   "metadata": {
    "ExecuteTime": {
     "end_time": "2020-08-14T07:50:50.787877Z",
     "start_time": "2020-08-14T07:50:50.771879Z"
    },
    "execution": {
     "iopub.execute_input": "2020-08-17T02:01:37.597350Z",
     "iopub.status.busy": "2020-08-17T02:01:37.596389Z",
     "iopub.status.idle": "2020-08-17T02:01:37.599487Z",
     "shell.execute_reply": "2020-08-17T02:01:37.598741Z"
    },
    "papermill": {
     "duration": 0.466849,
     "end_time": "2020-08-17T02:01:37.599609",
     "exception": false,
     "start_time": "2020-08-17T02:01:37.132760",
     "status": "completed"
    },
    "tags": []
   },
   "outputs": [],
   "source": [
    "def get_model():\n",
    "    print('Loading pretrained model...')\n",
    "    with strategy.scope():\n",
    "        transformer_layer = TFAutoModel.from_pretrained(MODEL)\n",
    "        model = build_model(transformer_layer, max_len=MAX_LEN)\n",
    "        print('LOADED.')\n",
    "    return model"
   ]
  },
  {
   "cell_type": "code",
   "execution_count": 31,
   "metadata": {
    "ExecuteTime": {
     "end_time": "2020-08-14T07:50:58.018213Z",
     "start_time": "2020-08-14T07:50:51.299835Z"
    },
    "execution": {
     "iopub.execute_input": "2020-08-17T02:01:38.568039Z",
     "iopub.status.busy": "2020-08-17T02:01:38.566946Z",
     "iopub.status.idle": "2020-08-17T02:01:38.584823Z",
     "shell.execute_reply": "2020-08-17T02:01:38.583925Z"
    },
    "papermill": {
     "duration": 0.485403,
     "end_time": "2020-08-17T02:01:38.585003",
     "exception": false,
     "start_time": "2020-08-17T02:01:38.099600",
     "status": "completed"
    },
    "tags": []
   },
   "outputs": [],
   "source": [
    "# For debugging purposes\n",
    "if DEBUG:\n",
    "    train_df = train_df.sample(10000)\n",
    "    test_df = test_df.sample(5000)\n",
    "\n",
    "# Convert rating from 0 to 4\n",
    "train_df['rating'] = train_df['rating'] - 1\n",
    "# Convert reviews to arrays\n",
    "X, Y = train_df['review'].values, train_df['rating'].values"
   ]
  },
  {
   "cell_type": "code",
   "execution_count": 32,
   "metadata": {
    "ExecuteTime": {
     "end_time": "2020-08-14T07:54:06.006941Z",
     "start_time": "2020-08-14T07:53:58.926076Z"
    },
    "execution": {
     "iopub.execute_input": "2020-08-17T02:01:39.631566Z",
     "iopub.status.busy": "2020-08-17T02:01:39.595240Z",
     "iopub.status.idle": "2020-08-17T02:01:48.985482Z",
     "shell.execute_reply": "2020-08-17T02:01:48.984647Z"
    },
    "papermill": {
     "duration": 9.911464,
     "end_time": "2020-08-17T02:01:48.985611",
     "exception": false,
     "start_time": "2020-08-17T02:01:39.074147",
     "status": "completed"
    },
    "tags": []
   },
   "outputs": [],
   "source": [
    "# Encode test reviews\n",
    "x_test = regular_encode(test_df['review'].values, tokenizer, maxlen=MAX_LEN)\n",
    "\n",
    "# Convert test reviews array to tensorflow dataset \n",
    "test_dataset = (\n",
    "    tf.data.Dataset\n",
    "    .from_tensor_slices(x_test)\n",
    "    .batch(BATCH_SIZE)\n",
    "    .cache()\n",
    "    .prefetch(AUTO)\n",
    ")\n",
    "\n",
    "# Calculate number of steps needed, +1 because the last step has leftover samples due to flooring\n",
    "n_steps_test = (x_test.shape[0] // BATCH_SIZE) + 1"
   ]
  },
  {
   "cell_type": "code",
   "execution_count": 33,
   "metadata": {
    "execution": {
     "iopub.execute_input": "2020-08-17T02:01:49.932208Z",
     "iopub.status.busy": "2020-08-17T02:01:49.931123Z",
     "iopub.status.idle": "2020-08-17T02:01:49.934573Z",
     "shell.execute_reply": "2020-08-17T02:01:49.933817Z"
    },
    "papermill": {
     "duration": 0.488276,
     "end_time": "2020-08-17T02:01:49.934697",
     "exception": false,
     "start_time": "2020-08-17T02:01:49.446421",
     "status": "completed"
    },
    "tags": []
   },
   "outputs": [],
   "source": [
    "# To store test probabilities for each fold\n",
    "test_folds_dfs = []\n",
    "\n",
    "# Training for k number of splits\n",
    "def train_kfold(folds):\n",
    "    # Using StratifiedShuffleSplit because the rating 1 and 2 are too few to do k-folds\n",
    "    sss = StratifiedShuffleSplit(n_splits=folds, test_size=0.1, random_state=RANDOM_SEED)\n",
    "    # Loop for each fold\n",
    "    for fold, (trn_ind, val_ind) in enumerate(sss.split(X, Y)):\n",
    "        \n",
    "        tf.tpu.experimental.initialize_tpu_system(tpu)\n",
    "        \n",
    "        checkpoint_filepath = 'model.h5'\n",
    "        checkpointCallback = ModelCheckpoint(filepath=checkpoint_filepath, \n",
    "                                                save_weights_only=True, \n",
    "                                                monitor='val_loss',\n",
    "                                                mode='min',\n",
    "                                                save_best_only=True)\n",
    "\n",
    "        earlyStop = EarlyStopping(monitor='val_loss', mode='min', patience=4, verbose=1)\n",
    "\n",
    "        reduceLR = ReduceLROnPlateau(monitor='val_loss', factor=0.5, patience=1, min_lr=1e-6, verbose=1)\n",
    "        \n",
    "        print('Starting fold {}...'.format(fold))\n",
    "        X_train, X_valid = X[trn_ind], X[val_ind]\n",
    "        Y_train, Y_valid = Y[trn_ind], Y[val_ind]\n",
    "        \n",
    "        # Unique classes\n",
    "        classes = np.unique(train_df['rating'])\n",
    "        \n",
    "        # Calculate weight for each label since label are imbalanced\n",
    "        weights = compute_class_weight(class_weight='balanced', classes=classes, y=Y_train)\n",
    "        class_weight = dict(enumerate(weights))\n",
    "        \n",
    "        # Encode reviews\n",
    "        x_train = regular_encode(X_train, tokenizer, maxlen=MAX_LEN)\n",
    "        x_valid = regular_encode(X_valid, tokenizer, maxlen=MAX_LEN)\n",
    "        \n",
    "        # Convert ratings to one-hot-encoding vector\n",
    "        y_train = to_categorical(Y_train, NUM_CLASSES)\n",
    "        y_valid = to_categorical(Y_valid, NUM_CLASSES)\n",
    "        \n",
    "        # Convert training data to tensorflow dataset\n",
    "        train_dataset = (\n",
    "            tf.data.Dataset\n",
    "            .from_tensor_slices((x_train, y_train))\n",
    "            .repeat()\n",
    "            .shuffle(RANDOM_SEED)\n",
    "            .batch(BATCH_SIZE)\n",
    "            .prefetch(AUTO)\n",
    "        )\n",
    "        \n",
    "        # Convert validation data to tensorflow dataset\n",
    "        valid_dataset = (\n",
    "            tf.data.Dataset\n",
    "            .from_tensor_slices((x_valid, y_valid))\n",
    "            .batch(BATCH_SIZE)\n",
    "            .cache()\n",
    "            .prefetch(AUTO)\n",
    "        )\n",
    "        \n",
    "        # Calculate number of steps needed \n",
    "        n_steps_train = x_train.shape[0] // BATCH_SIZE\n",
    "        n_steps_valid = x_valid.shape[0] // BATCH_SIZE\n",
    "        \n",
    "        model = get_model()\n",
    "        \n",
    "        print('Begin training fold {}...'.format(fold))\n",
    "        history = model.fit(train_dataset, \n",
    "                          steps_per_epoch=n_steps_train, \n",
    "                          epochs=EPOCHS,\n",
    "                          validation_data=valid_dataset, \n",
    "                          validation_steps=n_steps_valid,\n",
    "                          verbose=1,\n",
    "                          class_weight=class_weight,\n",
    "                          callbacks=[PrintSystemLogPerEpoch(), checkpointCallback, earlyStop, reduceLR])\n",
    "        \n",
    "        model.load_weights(checkpoint_filepath)\n",
    "        \n",
    "        prob = model.predict(test_dataset, steps = n_steps_test)\n",
    "        \n",
    "        kaggle = test_df[['review_id']]\n",
    "\n",
    "        for i in range(NUM_CLASSES):\n",
    "            kaggle['probability_{}'.format(i)] = prob[:, i]\n",
    "        \n",
    "        test_folds_dfs.append(kaggle)\n",
    "#         kaggle.to_csv('probabilities_fold_{}.csv'.format(fold), index=False)\n",
    "        print('Saved fold {}...'.format(fold))\n",
    "        print('')"
   ]
  },
  {
   "cell_type": "code",
   "execution_count": 34,
   "metadata": {
    "ExecuteTime": {
     "end_time": "2020-08-14T08:43:38.491236Z",
     "start_time": "2020-08-14T08:43:38.387227Z"
    },
    "execution": {
     "iopub.execute_input": "2020-08-17T02:01:50.923820Z",
     "iopub.status.busy": "2020-08-17T02:01:50.922996Z",
     "iopub.status.idle": "2020-08-17T03:32:06.983273Z",
     "shell.execute_reply": "2020-08-17T03:32:06.984074Z"
    },
    "papermill": {
     "duration": 5416.547691,
     "end_time": "2020-08-17T03:32:06.984312",
     "exception": false,
     "start_time": "2020-08-17T02:01:50.436621",
     "status": "completed"
    },
    "tags": []
   },
   "outputs": [
    {
     "name": "stdout",
     "output_type": "stream",
     "text": [
      "Starting fold 0...\n",
      "Loading pretrained model...\n"
     ]
    },
    {
     "data": {
      "application/vnd.jupyter.widget-view+json": {
       "model_id": "e2a2311d65ba40db886973f25f8369b0",
       "version_major": 2,
       "version_minor": 0
      },
      "text/plain": [
       "HBox(children=(FloatProgress(value=0.0, description='Downloading', max=3271420488.0, style=ProgressStyle(descr…"
      ]
     },
     "metadata": {},
     "output_type": "display_data"
    },
    {
     "name": "stdout",
     "output_type": "stream",
     "text": [
      "\n",
      "LOADED.\n",
      "Begin training fold 0...\n",
      "* [Epoch 1] begins at 10:10:18.713438\n",
      "Epoch 1/6\n",
      "1410/1410 [==============================] - ETA: 0s - accuracy: 0.5945 - loss: 1.1633\n",
      "* [Epoch 1] ends at 10:25:49.152763 | loss=1.1633, val_loss=0.7886\n",
      "1410/1410 [==============================] - 806s 571ms/step - accuracy: 0.5945 - loss: 1.1633 - val_accuracy: 0.6813 - val_loss: 0.7886 - lr: 1.0000e-05\n",
      "* [Epoch 2] begins at 10:25:58.168638\n",
      "Epoch 2/6\n",
      "1410/1410 [==============================] - ETA: 0s - accuracy: 0.6660 - loss: 1.0262\n",
      "* [Epoch 2] ends at 10:38:50.891128 | loss=1.0262, val_loss=0.7674\n",
      "1410/1410 [==============================] - 781s 554ms/step - accuracy: 0.6660 - loss: 1.0262 - val_accuracy: 0.6955 - val_loss: 0.7674 - lr: 1.0000e-05\n",
      "* [Epoch 3] begins at 10:38:59.798118\n",
      "Epoch 3/6\n",
      "1410/1410 [==============================] - ETA: 0s - accuracy: 0.6778 - loss: 0.9871\n",
      "* [Epoch 3] ends at 10:51:52.766635 | loss=0.9871, val_loss=0.7648\n",
      "1410/1410 [==============================] - 781s 554ms/step - accuracy: 0.6778 - loss: 0.9871 - val_accuracy: 0.6997 - val_loss: 0.7648 - lr: 1.0000e-05\n",
      "* [Epoch 4] begins at 10:52:01.222414\n",
      "Epoch 4/6\n",
      "1410/1410 [==============================] - ETA: 0s - accuracy: 0.6849 - loss: 0.9558\n",
      "* [Epoch 4] ends at 11:04:53.694960 | loss=0.9558, val_loss=0.7748\n",
      "\n",
      "Epoch 00004: ReduceLROnPlateau reducing learning rate to 4.999999873689376e-06.\n",
      "1410/1410 [==============================] - 772s 547ms/step - accuracy: 0.6849 - loss: 0.9558 - val_accuracy: 0.7000 - val_loss: 0.7748 - lr: 1.0000e-05\n",
      "* [Epoch 5] begins at 11:04:53.851282\n",
      "Epoch 5/6\n",
      "1410/1410 [==============================] - ETA: 0s - accuracy: 0.6962 - loss: 0.9048\n",
      "* [Epoch 5] ends at 11:17:46.553925 | loss=0.9048, val_loss=0.7618\n",
      "1410/1410 [==============================] - 780s 554ms/step - accuracy: 0.6962 - loss: 0.9048 - val_accuracy: 0.6999 - val_loss: 0.7618 - lr: 5.0000e-06\n",
      "* [Epoch 6] begins at 11:17:54.976834\n",
      "Epoch 6/6\n",
      "1410/1410 [==============================] - ETA: 0s - accuracy: 0.7011 - loss: 0.8767\n",
      "* [Epoch 6] ends at 11:30:48.067804 | loss=0.8767, val_loss=0.7771\n",
      "\n",
      "Epoch 00006: ReduceLROnPlateau reducing learning rate to 2.499999936844688e-06.\n",
      "1410/1410 [==============================] - 773s 548ms/step - accuracy: 0.7011 - loss: 0.8767 - val_accuracy: 0.6990 - val_loss: 0.7771 - lr: 5.0000e-06\n",
      "Saved fold 0...\n",
      "\n"
     ]
    }
   ],
   "source": [
    "train_kfold(folds=1)"
   ]
  },
  {
   "cell_type": "code",
   "execution_count": 35,
   "metadata": {
    "execution": {
     "iopub.execute_input": "2020-08-17T03:32:09.132274Z",
     "iopub.status.busy": "2020-08-17T03:32:09.131092Z",
     "iopub.status.idle": "2020-08-17T03:32:09.512627Z",
     "shell.execute_reply": "2020-08-17T03:32:09.511873Z"
    },
    "papermill": {
     "duration": 1.500783,
     "end_time": "2020-08-17T03:32:09.512767",
     "exception": false,
     "start_time": "2020-08-17T03:32:08.011984",
     "status": "completed"
    },
    "tags": []
   },
   "outputs": [],
   "source": [
    "# Stack the dataframes vertically\n",
    "test_ensembles = pd.concat(test_folds_dfs, axis=0)\n",
    "# Take the mean probabilites for each review\n",
    "mean_probabilities = test_ensembles.groupby('review_id').mean()\n",
    "# Convert probabilities to predictions and add 1 to convert ratings from 0-4 to 1-5\n",
    "predictions = np.argmax(mean_probabilities.values, axis=1) + 1\n",
    "# Kaggle submission\n",
    "submission = test_df[['review_id']].copy()\n",
    "submission['rating'] = predictions\n",
    "submission.to_csv('submission.csv', index=False)"
   ]
  }
 ],
 "metadata": {
  "kernelspec": {
   "display_name": "Python 3",
   "language": "python",
   "name": "python3"
  },
  "language_info": {
   "codemirror_mode": {
    "name": "ipython",
    "version": 3
   },
   "file_extension": ".py",
   "mimetype": "text/x-python",
   "name": "python",
   "nbconvert_exporter": "python",
   "pygments_lexer": "ipython3",
   "version": "3.7.7"
  },
  "papermill": {
   "duration": 6330.836078,
   "end_time": "2020-08-17T03:32:10.842312",
   "environment_variables": {},
   "exception": null,
   "input_path": "__notebook__.ipynb",
   "output_path": "__notebook__.ipynb",
   "parameters": {},
   "start_time": "2020-08-17T01:46:40.006234",
   "version": "2.1.0"
  },
  "toc": {
   "base_numbering": 1,
   "nav_menu": {},
   "number_sections": true,
   "sideBar": true,
   "skip_h1_title": false,
   "title_cell": "Table of Contents",
   "title_sidebar": "Contents",
   "toc_cell": false,
   "toc_position": {},
   "toc_section_display": true,
   "toc_window_display": false
  },
  "widgets": {
   "application/vnd.jupyter.widget-state+json": {
    "state": {
     "040fff3cbfbf4c25a33349557c8166f7": {
      "model_module": "@jupyter-widgets/controls",
      "model_module_version": "1.5.0",
      "model_name": "ProgressStyleModel",
      "state": {
       "_model_module": "@jupyter-widgets/controls",
       "_model_module_version": "1.5.0",
       "_model_name": "ProgressStyleModel",
       "_view_count": null,
       "_view_module": "@jupyter-widgets/base",
       "_view_module_version": "1.2.0",
       "_view_name": "StyleView",
       "bar_color": null,
       "description_width": "initial"
      }
     },
     "05f8c6dabcdb4bd790cf994beed101e5": {
      "model_module": "@jupyter-widgets/controls",
      "model_module_version": "1.5.0",
      "model_name": "HBoxModel",
      "state": {
       "_dom_classes": [],
       "_model_module": "@jupyter-widgets/controls",
       "_model_module_version": "1.5.0",
       "_model_name": "HBoxModel",
       "_view_count": null,
       "_view_module": "@jupyter-widgets/controls",
       "_view_module_version": "1.5.0",
       "_view_name": "HBoxView",
       "box_style": "",
       "children": [
        "IPY_MODEL_f9999bdad9434b03b0eaf6d41bdf9007",
        "IPY_MODEL_c8b6a8065ebd4b7c9ea1fadc1fb53f1c"
       ],
       "layout": "IPY_MODEL_7ae973255e184f459d6c2a4d4fb4d34b"
      }
     },
     "0a99313ced744e9fb288b6cd8785ecdf": {
      "model_module": "@jupyter-widgets/base",
      "model_module_version": "1.2.0",
      "model_name": "LayoutModel",
      "state": {
       "_model_module": "@jupyter-widgets/base",
       "_model_module_version": "1.2.0",
       "_model_name": "LayoutModel",
       "_view_count": null,
       "_view_module": "@jupyter-widgets/base",
       "_view_module_version": "1.2.0",
       "_view_name": "LayoutView",
       "align_content": null,
       "align_items": null,
       "align_self": null,
       "border": null,
       "bottom": null,
       "display": null,
       "flex": null,
       "flex_flow": null,
       "grid_area": null,
       "grid_auto_columns": null,
       "grid_auto_flow": null,
       "grid_auto_rows": null,
       "grid_column": null,
       "grid_gap": null,
       "grid_row": null,
       "grid_template_areas": null,
       "grid_template_columns": null,
       "grid_template_rows": null,
       "height": null,
       "justify_content": null,
       "justify_items": null,
       "left": null,
       "margin": null,
       "max_height": null,
       "max_width": null,
       "min_height": null,
       "min_width": null,
       "object_fit": null,
       "object_position": null,
       "order": null,
       "overflow": null,
       "overflow_x": null,
       "overflow_y": null,
       "padding": null,
       "right": null,
       "top": null,
       "visibility": null,
       "width": null
      }
     },
     "14dae97956e74323b6017c79dd0a3855": {
      "model_module": "@jupyter-widgets/controls",
      "model_module_version": "1.5.0",
      "model_name": "DescriptionStyleModel",
      "state": {
       "_model_module": "@jupyter-widgets/controls",
       "_model_module_version": "1.5.0",
       "_model_name": "DescriptionStyleModel",
       "_view_count": null,
       "_view_module": "@jupyter-widgets/base",
       "_view_module_version": "1.2.0",
       "_view_name": "StyleView",
       "description_width": ""
      }
     },
     "160df9b9ae214443be405639d7c192c0": {
      "model_module": "@jupyter-widgets/base",
      "model_module_version": "1.2.0",
      "model_name": "LayoutModel",
      "state": {
       "_model_module": "@jupyter-widgets/base",
       "_model_module_version": "1.2.0",
       "_model_name": "LayoutModel",
       "_view_count": null,
       "_view_module": "@jupyter-widgets/base",
       "_view_module_version": "1.2.0",
       "_view_name": "LayoutView",
       "align_content": null,
       "align_items": null,
       "align_self": null,
       "border": null,
       "bottom": null,
       "display": null,
       "flex": null,
       "flex_flow": null,
       "grid_area": null,
       "grid_auto_columns": null,
       "grid_auto_flow": null,
       "grid_auto_rows": null,
       "grid_column": null,
       "grid_gap": null,
       "grid_row": null,
       "grid_template_areas": null,
       "grid_template_columns": null,
       "grid_template_rows": null,
       "height": null,
       "justify_content": null,
       "justify_items": null,
       "left": null,
       "margin": null,
       "max_height": null,
       "max_width": null,
       "min_height": null,
       "min_width": null,
       "object_fit": null,
       "object_position": null,
       "order": null,
       "overflow": null,
       "overflow_x": null,
       "overflow_y": null,
       "padding": null,
       "right": null,
       "top": null,
       "visibility": null,
       "width": null
      }
     },
     "21dacf0823854ca48c647833d2f93a6e": {
      "model_module": "@jupyter-widgets/controls",
      "model_module_version": "1.5.0",
      "model_name": "DescriptionStyleModel",
      "state": {
       "_model_module": "@jupyter-widgets/controls",
       "_model_module_version": "1.5.0",
       "_model_name": "DescriptionStyleModel",
       "_view_count": null,
       "_view_module": "@jupyter-widgets/base",
       "_view_module_version": "1.2.0",
       "_view_name": "StyleView",
       "description_width": ""
      }
     },
     "25ad68ca3b08425c865d792aca824a06": {
      "model_module": "@jupyter-widgets/base",
      "model_module_version": "1.2.0",
      "model_name": "LayoutModel",
      "state": {
       "_model_module": "@jupyter-widgets/base",
       "_model_module_version": "1.2.0",
       "_model_name": "LayoutModel",
       "_view_count": null,
       "_view_module": "@jupyter-widgets/base",
       "_view_module_version": "1.2.0",
       "_view_name": "LayoutView",
       "align_content": null,
       "align_items": null,
       "align_self": null,
       "border": null,
       "bottom": null,
       "display": null,
       "flex": null,
       "flex_flow": null,
       "grid_area": null,
       "grid_auto_columns": null,
       "grid_auto_flow": null,
       "grid_auto_rows": null,
       "grid_column": null,
       "grid_gap": null,
       "grid_row": null,
       "grid_template_areas": null,
       "grid_template_columns": null,
       "grid_template_rows": null,
       "height": null,
       "justify_content": null,
       "justify_items": null,
       "left": null,
       "margin": null,
       "max_height": null,
       "max_width": null,
       "min_height": null,
       "min_width": null,
       "object_fit": null,
       "object_position": null,
       "order": null,
       "overflow": null,
       "overflow_x": null,
       "overflow_y": null,
       "padding": null,
       "right": null,
       "top": null,
       "visibility": null,
       "width": null
      }
     },
     "45aee9178b7f407da182ad341c05a608": {
      "model_module": "@jupyter-widgets/controls",
      "model_module_version": "1.5.0",
      "model_name": "DescriptionStyleModel",
      "state": {
       "_model_module": "@jupyter-widgets/controls",
       "_model_module_version": "1.5.0",
       "_model_name": "DescriptionStyleModel",
       "_view_count": null,
       "_view_module": "@jupyter-widgets/base",
       "_view_module_version": "1.2.0",
       "_view_name": "StyleView",
       "description_width": ""
      }
     },
     "59d29f4b3d4f475c8fd78818dde6aa56": {
      "model_module": "@jupyter-widgets/controls",
      "model_module_version": "1.5.0",
      "model_name": "HTMLModel",
      "state": {
       "_dom_classes": [],
       "_model_module": "@jupyter-widgets/controls",
       "_model_module_version": "1.5.0",
       "_model_name": "HTMLModel",
       "_view_count": null,
       "_view_module": "@jupyter-widgets/controls",
       "_view_module_version": "1.5.0",
       "_view_name": "HTMLView",
       "description": "",
       "description_tooltip": null,
       "layout": "IPY_MODEL_ca688e66d6034ddd81a57e9a30b2c32b",
       "placeholder": "​",
       "style": "IPY_MODEL_21dacf0823854ca48c647833d2f93a6e",
       "value": " 3.27G/3.27G [05:15&lt;00:00, 10.4MB/s]"
      }
     },
     "655bfebec71c4b26a6ecf6b4cd853796": {
      "model_module": "@jupyter-widgets/controls",
      "model_module_version": "1.5.0",
      "model_name": "ProgressStyleModel",
      "state": {
       "_model_module": "@jupyter-widgets/controls",
       "_model_module_version": "1.5.0",
       "_model_name": "ProgressStyleModel",
       "_view_count": null,
       "_view_module": "@jupyter-widgets/base",
       "_view_module_version": "1.2.0",
       "_view_name": "StyleView",
       "bar_color": null,
       "description_width": "initial"
      }
     },
     "7ae973255e184f459d6c2a4d4fb4d34b": {
      "model_module": "@jupyter-widgets/base",
      "model_module_version": "1.2.0",
      "model_name": "LayoutModel",
      "state": {
       "_model_module": "@jupyter-widgets/base",
       "_model_module_version": "1.2.0",
       "_model_name": "LayoutModel",
       "_view_count": null,
       "_view_module": "@jupyter-widgets/base",
       "_view_module_version": "1.2.0",
       "_view_name": "LayoutView",
       "align_content": null,
       "align_items": null,
       "align_self": null,
       "border": null,
       "bottom": null,
       "display": null,
       "flex": null,
       "flex_flow": null,
       "grid_area": null,
       "grid_auto_columns": null,
       "grid_auto_flow": null,
       "grid_auto_rows": null,
       "grid_column": null,
       "grid_gap": null,
       "grid_row": null,
       "grid_template_areas": null,
       "grid_template_columns": null,
       "grid_template_rows": null,
       "height": null,
       "justify_content": null,
       "justify_items": null,
       "left": null,
       "margin": null,
       "max_height": null,
       "max_width": null,
       "min_height": null,
       "min_width": null,
       "object_fit": null,
       "object_position": null,
       "order": null,
       "overflow": null,
       "overflow_x": null,
       "overflow_y": null,
       "padding": null,
       "right": null,
       "top": null,
       "visibility": null,
       "width": null
      }
     },
     "80f6dfc426c14be982168aeee0fb7e0b": {
      "model_module": "@jupyter-widgets/controls",
      "model_module_version": "1.5.0",
      "model_name": "FloatProgressModel",
      "state": {
       "_dom_classes": [],
       "_model_module": "@jupyter-widgets/controls",
       "_model_module_version": "1.5.0",
       "_model_name": "FloatProgressModel",
       "_view_count": null,
       "_view_module": "@jupyter-widgets/controls",
       "_view_module_version": "1.5.0",
       "_view_name": "ProgressView",
       "bar_style": "success",
       "description": "Downloading: 100%",
       "description_tooltip": null,
       "layout": "IPY_MODEL_b265a31c85084a38914616c9703ebfd3",
       "max": 513,
       "min": 0,
       "orientation": "horizontal",
       "style": "IPY_MODEL_bfbf2d86a57b4728a7889012ac9a4cb6",
       "value": 513
      }
     },
     "8b314ff99d3f46a895e7c91b7010b63d": {
      "model_module": "@jupyter-widgets/controls",
      "model_module_version": "1.5.0",
      "model_name": "HTMLModel",
      "state": {
       "_dom_classes": [],
       "_model_module": "@jupyter-widgets/controls",
       "_model_module_version": "1.5.0",
       "_model_name": "HTMLModel",
       "_view_count": null,
       "_view_module": "@jupyter-widgets/controls",
       "_view_module_version": "1.5.0",
       "_view_name": "HTMLView",
       "description": "",
       "description_tooltip": null,
       "layout": "IPY_MODEL_9aaed85849464982a6b1b7878a7b493f",
       "placeholder": "​",
       "style": "IPY_MODEL_45aee9178b7f407da182ad341c05a608",
       "value": " 513/513 [00:01&lt;00:00, 367B/s]"
      }
     },
     "9aaed85849464982a6b1b7878a7b493f": {
      "model_module": "@jupyter-widgets/base",
      "model_module_version": "1.2.0",
      "model_name": "LayoutModel",
      "state": {
       "_model_module": "@jupyter-widgets/base",
       "_model_module_version": "1.2.0",
       "_model_name": "LayoutModel",
       "_view_count": null,
       "_view_module": "@jupyter-widgets/base",
       "_view_module_version": "1.2.0",
       "_view_name": "LayoutView",
       "align_content": null,
       "align_items": null,
       "align_self": null,
       "border": null,
       "bottom": null,
       "display": null,
       "flex": null,
       "flex_flow": null,
       "grid_area": null,
       "grid_auto_columns": null,
       "grid_auto_flow": null,
       "grid_auto_rows": null,
       "grid_column": null,
       "grid_gap": null,
       "grid_row": null,
       "grid_template_areas": null,
       "grid_template_columns": null,
       "grid_template_rows": null,
       "height": null,
       "justify_content": null,
       "justify_items": null,
       "left": null,
       "margin": null,
       "max_height": null,
       "max_width": null,
       "min_height": null,
       "min_width": null,
       "object_fit": null,
       "object_position": null,
       "order": null,
       "overflow": null,
       "overflow_x": null,
       "overflow_y": null,
       "padding": null,
       "right": null,
       "top": null,
       "visibility": null,
       "width": null
      }
     },
     "b265a31c85084a38914616c9703ebfd3": {
      "model_module": "@jupyter-widgets/base",
      "model_module_version": "1.2.0",
      "model_name": "LayoutModel",
      "state": {
       "_model_module": "@jupyter-widgets/base",
       "_model_module_version": "1.2.0",
       "_model_name": "LayoutModel",
       "_view_count": null,
       "_view_module": "@jupyter-widgets/base",
       "_view_module_version": "1.2.0",
       "_view_name": "LayoutView",
       "align_content": null,
       "align_items": null,
       "align_self": null,
       "border": null,
       "bottom": null,
       "display": null,
       "flex": null,
       "flex_flow": null,
       "grid_area": null,
       "grid_auto_columns": null,
       "grid_auto_flow": null,
       "grid_auto_rows": null,
       "grid_column": null,
       "grid_gap": null,
       "grid_row": null,
       "grid_template_areas": null,
       "grid_template_columns": null,
       "grid_template_rows": null,
       "height": null,
       "justify_content": null,
       "justify_items": null,
       "left": null,
       "margin": null,
       "max_height": null,
       "max_width": null,
       "min_height": null,
       "min_width": null,
       "object_fit": null,
       "object_position": null,
       "order": null,
       "overflow": null,
       "overflow_x": null,
       "overflow_y": null,
       "padding": null,
       "right": null,
       "top": null,
       "visibility": null,
       "width": null
      }
     },
     "bfbf2d86a57b4728a7889012ac9a4cb6": {
      "model_module": "@jupyter-widgets/controls",
      "model_module_version": "1.5.0",
      "model_name": "ProgressStyleModel",
      "state": {
       "_model_module": "@jupyter-widgets/controls",
       "_model_module_version": "1.5.0",
       "_model_name": "ProgressStyleModel",
       "_view_count": null,
       "_view_module": "@jupyter-widgets/base",
       "_view_module_version": "1.2.0",
       "_view_name": "StyleView",
       "bar_color": null,
       "description_width": "initial"
      }
     },
     "c8b6a8065ebd4b7c9ea1fadc1fb53f1c": {
      "model_module": "@jupyter-widgets/controls",
      "model_module_version": "1.5.0",
      "model_name": "HTMLModel",
      "state": {
       "_dom_classes": [],
       "_model_module": "@jupyter-widgets/controls",
       "_model_module_version": "1.5.0",
       "_model_name": "HTMLModel",
       "_view_count": null,
       "_view_module": "@jupyter-widgets/controls",
       "_view_module_version": "1.5.0",
       "_view_name": "HTMLView",
       "description": "",
       "description_tooltip": null,
       "layout": "IPY_MODEL_0a99313ced744e9fb288b6cd8785ecdf",
       "placeholder": "​",
       "style": "IPY_MODEL_14dae97956e74323b6017c79dd0a3855",
       "value": " 5.07M/5.07M [00:00&lt;00:00, 5.49MB/s]"
      }
     },
     "ca688e66d6034ddd81a57e9a30b2c32b": {
      "model_module": "@jupyter-widgets/base",
      "model_module_version": "1.2.0",
      "model_name": "LayoutModel",
      "state": {
       "_model_module": "@jupyter-widgets/base",
       "_model_module_version": "1.2.0",
       "_model_name": "LayoutModel",
       "_view_count": null,
       "_view_module": "@jupyter-widgets/base",
       "_view_module_version": "1.2.0",
       "_view_name": "LayoutView",
       "align_content": null,
       "align_items": null,
       "align_self": null,
       "border": null,
       "bottom": null,
       "display": null,
       "flex": null,
       "flex_flow": null,
       "grid_area": null,
       "grid_auto_columns": null,
       "grid_auto_flow": null,
       "grid_auto_rows": null,
       "grid_column": null,
       "grid_gap": null,
       "grid_row": null,
       "grid_template_areas": null,
       "grid_template_columns": null,
       "grid_template_rows": null,
       "height": null,
       "justify_content": null,
       "justify_items": null,
       "left": null,
       "margin": null,
       "max_height": null,
       "max_width": null,
       "min_height": null,
       "min_width": null,
       "object_fit": null,
       "object_position": null,
       "order": null,
       "overflow": null,
       "overflow_x": null,
       "overflow_y": null,
       "padding": null,
       "right": null,
       "top": null,
       "visibility": null,
       "width": null
      }
     },
     "d28e87b90f5745868e48a93742984818": {
      "model_module": "@jupyter-widgets/controls",
      "model_module_version": "1.5.0",
      "model_name": "FloatProgressModel",
      "state": {
       "_dom_classes": [],
       "_model_module": "@jupyter-widgets/controls",
       "_model_module_version": "1.5.0",
       "_model_name": "FloatProgressModel",
       "_view_count": null,
       "_view_module": "@jupyter-widgets/controls",
       "_view_module_version": "1.5.0",
       "_view_name": "ProgressView",
       "bar_style": "success",
       "description": "Downloading: 100%",
       "description_tooltip": null,
       "layout": "IPY_MODEL_160df9b9ae214443be405639d7c192c0",
       "max": 3271420488,
       "min": 0,
       "orientation": "horizontal",
       "style": "IPY_MODEL_040fff3cbfbf4c25a33349557c8166f7",
       "value": 3271420488
      }
     },
     "e2a2311d65ba40db886973f25f8369b0": {
      "model_module": "@jupyter-widgets/controls",
      "model_module_version": "1.5.0",
      "model_name": "HBoxModel",
      "state": {
       "_dom_classes": [],
       "_model_module": "@jupyter-widgets/controls",
       "_model_module_version": "1.5.0",
       "_model_name": "HBoxModel",
       "_view_count": null,
       "_view_module": "@jupyter-widgets/controls",
       "_view_module_version": "1.5.0",
       "_view_name": "HBoxView",
       "box_style": "",
       "children": [
        "IPY_MODEL_d28e87b90f5745868e48a93742984818",
        "IPY_MODEL_59d29f4b3d4f475c8fd78818dde6aa56"
       ],
       "layout": "IPY_MODEL_25ad68ca3b08425c865d792aca824a06"
      }
     },
     "f9611bc0c76c48cca5ede0c73d3fce86": {
      "model_module": "@jupyter-widgets/controls",
      "model_module_version": "1.5.0",
      "model_name": "HBoxModel",
      "state": {
       "_dom_classes": [],
       "_model_module": "@jupyter-widgets/controls",
       "_model_module_version": "1.5.0",
       "_model_name": "HBoxModel",
       "_view_count": null,
       "_view_module": "@jupyter-widgets/controls",
       "_view_module_version": "1.5.0",
       "_view_name": "HBoxView",
       "box_style": "",
       "children": [
        "IPY_MODEL_80f6dfc426c14be982168aeee0fb7e0b",
        "IPY_MODEL_8b314ff99d3f46a895e7c91b7010b63d"
       ],
       "layout": "IPY_MODEL_fc023f80744c40b7b7352659865ca0c6"
      }
     },
     "f9999bdad9434b03b0eaf6d41bdf9007": {
      "model_module": "@jupyter-widgets/controls",
      "model_module_version": "1.5.0",
      "model_name": "FloatProgressModel",
      "state": {
       "_dom_classes": [],
       "_model_module": "@jupyter-widgets/controls",
       "_model_module_version": "1.5.0",
       "_model_name": "FloatProgressModel",
       "_view_count": null,
       "_view_module": "@jupyter-widgets/controls",
       "_view_module_version": "1.5.0",
       "_view_name": "ProgressView",
       "bar_style": "success",
       "description": "Downloading: 100%",
       "description_tooltip": null,
       "layout": "IPY_MODEL_ff380af829b44ab3b0bddd57fe0784eb",
       "max": 5069051,
       "min": 0,
       "orientation": "horizontal",
       "style": "IPY_MODEL_655bfebec71c4b26a6ecf6b4cd853796",
       "value": 5069051
      }
     },
     "fc023f80744c40b7b7352659865ca0c6": {
      "model_module": "@jupyter-widgets/base",
      "model_module_version": "1.2.0",
      "model_name": "LayoutModel",
      "state": {
       "_model_module": "@jupyter-widgets/base",
       "_model_module_version": "1.2.0",
       "_model_name": "LayoutModel",
       "_view_count": null,
       "_view_module": "@jupyter-widgets/base",
       "_view_module_version": "1.2.0",
       "_view_name": "LayoutView",
       "align_content": null,
       "align_items": null,
       "align_self": null,
       "border": null,
       "bottom": null,
       "display": null,
       "flex": null,
       "flex_flow": null,
       "grid_area": null,
       "grid_auto_columns": null,
       "grid_auto_flow": null,
       "grid_auto_rows": null,
       "grid_column": null,
       "grid_gap": null,
       "grid_row": null,
       "grid_template_areas": null,
       "grid_template_columns": null,
       "grid_template_rows": null,
       "height": null,
       "justify_content": null,
       "justify_items": null,
       "left": null,
       "margin": null,
       "max_height": null,
       "max_width": null,
       "min_height": null,
       "min_width": null,
       "object_fit": null,
       "object_position": null,
       "order": null,
       "overflow": null,
       "overflow_x": null,
       "overflow_y": null,
       "padding": null,
       "right": null,
       "top": null,
       "visibility": null,
       "width": null
      }
     },
     "ff380af829b44ab3b0bddd57fe0784eb": {
      "model_module": "@jupyter-widgets/base",
      "model_module_version": "1.2.0",
      "model_name": "LayoutModel",
      "state": {
       "_model_module": "@jupyter-widgets/base",
       "_model_module_version": "1.2.0",
       "_model_name": "LayoutModel",
       "_view_count": null,
       "_view_module": "@jupyter-widgets/base",
       "_view_module_version": "1.2.0",
       "_view_name": "LayoutView",
       "align_content": null,
       "align_items": null,
       "align_self": null,
       "border": null,
       "bottom": null,
       "display": null,
       "flex": null,
       "flex_flow": null,
       "grid_area": null,
       "grid_auto_columns": null,
       "grid_auto_flow": null,
       "grid_auto_rows": null,
       "grid_column": null,
       "grid_gap": null,
       "grid_row": null,
       "grid_template_areas": null,
       "grid_template_columns": null,
       "grid_template_rows": null,
       "height": null,
       "justify_content": null,
       "justify_items": null,
       "left": null,
       "margin": null,
       "max_height": null,
       "max_width": null,
       "min_height": null,
       "min_width": null,
       "object_fit": null,
       "object_position": null,
       "order": null,
       "overflow": null,
       "overflow_x": null,
       "overflow_y": null,
       "padding": null,
       "right": null,
       "top": null,
       "visibility": null,
       "width": null
      }
     }
    },
    "version_major": 2,
    "version_minor": 0
   }
  }
 },
 "nbformat": 4,
 "nbformat_minor": 4
}
